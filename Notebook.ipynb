{
 "metadata": {
  "language_info": {
   "codemirror_mode": {
    "name": "ipython",
    "version": 3
   },
   "file_extension": ".py",
   "mimetype": "text/x-python",
   "name": "python",
   "nbconvert_exporter": "python",
   "pygments_lexer": "ipython3",
   "version": "3.8.3-final"
  },
  "orig_nbformat": 2,
  "kernelspec": {
   "name": "Python 3.8.3 64-bit ('venvw')",
   "display_name": "Python 3.8.3 64-bit ('venvw')",
   "metadata": {
    "interpreter": {
     "hash": "5f205ff6da40c016131420b320ffebb1d37f22151d9c7e74a2037bed91cb9a79"
    }
   }
  }
 },
 "nbformat": 4,
 "nbformat_minor": 2,
 "cells": [
  {
   "cell_type": "code",
   "execution_count": 1,
   "metadata": {
    "tags": []
   },
   "outputs": [],
   "source": [
    "# MAIN\n",
    "# packages urllib, beatiful soup, html5, pandas\n",
    "#\n",
    "# from webtableparserpreviousversion import WebTableParser\n",
    "from src.webtableparser import WebTableParser\n",
    "#"
   ]
  },
  {
   "cell_type": "code",
   "execution_count": 2,
   "metadata": {
    "tags": []
   },
   "outputs": [
    {
     "output_type": "execute_result",
     "data": {
      "text/plain": [
       "\"site1 = WebTableParser()\\nsite1.create('https://calculador.com.br/tabela/indice/IGP-M',\\n             'table table-bordered table-striped table-hover table-fixed mb-0')\\ntable1 = site1.capture()\\ndf1 = site1.parse(table1)\\nprint(df1)\""
      ]
     },
     "metadata": {},
     "execution_count": 2
    }
   ],
   "source": [
    "# Sites 1 e 2 for testing (remove comments)\n",
    "'''site1 = WebTableParser()\n",
    "site1.create('https://calculador.com.br/tabela/indice/IGP-M',\n",
    "             'table table-bordered table-striped table-hover table-fixed mb-0')\n",
    "table1 = site1.capture()\n",
    "df1 = site1.parse(table1)\n",
    "print(df1)'''"
   ]
  },
  {
   "cell_type": "code",
   "execution_count": 3,
   "metadata": {
    "tags": []
   },
   "outputs": [
    {
     "output_type": "execute_result",
     "data": {
      "text/plain": [
       "\"site2 = WebTableParser('https://pt.wikipedia.org/    wiki/Lista_de_capitais_do_Brasil_por_%C3%A1rea',\\n                       'wikitable sortable')\\ntable2 = site2.capture()\\ndf2 = site2.parse(table2)\\nprint(df2)\""
      ]
     },
     "metadata": {},
     "execution_count": 3
    }
   ],
   "source": [
    "# Site by webtableparserpreviousversion module\n",
    "'''site2 = WebTableParser('https://pt.wikipedia.org/\\\n",
    "    wiki/Lista_de_capitais_do_Brasil_por_%C3%A1rea',\n",
    "                       'wikitable sortable')\n",
    "table2 = site2.capture()\n",
    "df2 = site2.parse(table2)\n",
    "print(df2)'''"
   ]
  },
  {
   "cell_type": "code",
   "execution_count": 4,
   "metadata": {
    "tags": []
   },
   "outputs": [
    {
     "output_type": "stream",
     "name": "stdout",
     "text": [
      "    CÃ³digodo fundo                 Setor PreÃ§o Atual Liquidez DiÃ¡ria  \\\n0            FIVN11             Shoppings      R$ 4,00            246.0   \n1            BZLI11  TÃ­tulos e Val. Mob.     R$ 14,10          30465.0   \n2            XTED11    Lajes Corporativas      R$ 7,37            847.0   \n3            ALMI11    Lajes Corporativas  R$ 1.201,95             29.0   \n4            DOMC11    Lajes Corporativas    R$ 439,00             42.0   \n..              ...                   ...          ...              ...   \n186          ALZR11            LogÃ­stica    R$ 129,93          13428.0   \n187          FCFL11                Outros    R$ 117,50           2305.0   \n188          PVBI11    Lajes Corporativas     R$ 99,34          23367.0   \n189          FLRP11             Shoppings  R$ 1.340,00             19.0   \n190          CNES11    Lajes Corporativas     R$ 66,80            245.0   \n\n    Dividendo DividendYield DY (3M)Acumulado DY (6M)Acumulado  \\\n0     R$ 0,00         0,00%            0,00%            0,00%   \n1     R$ 0,00         0,00%            0,00%            0,00%   \n2     R$ 0,00         0,00%            0,00%            0,00%   \n3     R$ 0,00         0,00%            0,00%            0,00%   \n4     R$ 0,00         0,00%            0,00%            0,00%   \n..        ...           ...              ...              ...   \n186   R$ 0,36         0,27%            1,14%            2,65%   \n187   R$ 0,56         0,47%            1,50%            3,00%   \n188   R$ 0,45         0,45%            0,45%            0,45%   \n189   R$ 2,85         0,21%            0,71%            2,58%   \n190   R$ 0,29         0,44%            1,32%            2,16%   \n\n    DY (12M)Acumulado DY (3M)MÃ©dia  ...   PatrimÃ´nioLÃ­q.          VPA  \\\n0               0,00%         0,00%  ...   R$ 71.569.862,13      R$ 7,60   \n1               0,00%         0,00%  ...  R$ 430.363.477,84     R$ 11,92   \n2               0,00%         0,00%  ...   R$ 26.024.375,31     R$ 14,52   \n3               0,00%         0,00%  ...  R$ 221.750.586,12  R$ 1.994,57   \n4               0,00%         0,00%  ...  R$ 259.767.889,57  R$ 1.062,97   \n..                ...           ...  ...                ...          ...   \n186             5,63%         0,38%  ...  R$ 459.346.206,31    R$ 102,54   \n187             5,66%         0,50%  ...  R$ 367.848.969,10    R$ 105,89   \n188             0,45%         0,15%  ...  R$ 938.886.911,97     R$ 96,59   \n189             5,14%         0,24%  ...  R$ 103.976.357,69  R$ 1.593,95   \n190             3,92%         0,44%  ...  R$ 279.833.028,49     R$ 94,88   \n\n    P/VPA DYPatrimonial VariaÃ§Ã£oPatrimonial Rentab. Patr.no PerÃ­odo  \\\n0    0,53           N/A                   N/A                      N/A   \n1    1,18           N/A                   N/A                      N/A   \n2    0,51           N/A                   N/A                      N/A   \n3    0,60           N/A                   N/A                      N/A   \n4    0,41           N/A                   N/A                      N/A   \n..    ...           ...                   ...                      ...   \n186  1,27           N/A                   N/A                      N/A   \n187  1,11           N/A                   N/A                      N/A   \n188  1,03           N/A                   N/A                      N/A   \n189  0,84           N/A                   N/A                      N/A   \n190  0,70           N/A                   N/A                      N/A   \n\n    Rentab. Patr.Acumulada VacÃ¢nciaFÃ­sica VacÃ¢nciaFinanceira  \\\n0                      N/A           56,00%                 N/A   \n1                      N/A              N/A                 N/A   \n2                      N/A          100,00%             100,00%   \n3                      N/A           71,19%                 N/A   \n4                      N/A           23,44%                 N/A   \n..                     ...              ...                 ...   \n186                    N/A            0,00%                 N/A   \n187                    N/A            0,00%                 N/A   \n188                    N/A            0,00%               0,00%   \n189                    N/A            1,96%                 N/A   \n190                    N/A           36,30%                 N/A   \n\n    QuantidadeAtivos  \n0                  1  \n1                  0  \n2                  1  \n3                  1  \n4                  1  \n..               ...  \n186                7  \n187                1  \n188                2  \n189                1  \n190                1  \n\n[191 rows x 26 columns]\n"
     ]
    }
   ],
   "source": [
    "# site capture and parsing\n",
    "site = WebTableParser()\n",
    "site.create('https://www.fundsexplorer.com.br/ranking',\n",
    "            'table table-hover')\n",
    "table = site.capture()\n",
    "df = site.parse(table)\n",
    "print(df)\n",
    "#\n",
    "# Now you have to process the dataframe, \"clean and organize\" it!"
   ]
  }
 ]
}