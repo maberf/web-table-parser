{
 "cells": [
  {
   "cell_type": "code",
   "execution_count": null,
   "metadata": {},
   "outputs": [],
   "source": [
    "from selenium import webdriver"
   ]
  },
  {
   "cell_type": "code",
   "execution_count": 38,
   "metadata": {},
   "outputs": [],
   "source": [
    "# driver=webdriver.Chrome('/usr/bin/google-chrome')\n",
    "chrome_options = webdriver.ChromeOptions()\n",
    "chrome_options.add_argument(\"--headless\")\n",
    "#chrome_options.add_argument(\"--disable-gpu\")\n",
    "browser = webdriver.Chrome(options=chrome_options)\n",
    "#\n",
    "#try:\n",
    "#    browser.get(\"https://fundsexplorer.com.br/ranking\")\n",
    "#    print(\"Page title was '{}'\".format(browser.title))\n",
    "#\n",
    "#finally:\n",
    "#    browser.quit()'''"
   ]
  },
  {
   "cell_type": "code",
   "execution_count": 39,
   "metadata": {},
   "outputs": [
    {
     "ename": "AttributeError",
     "evalue": "'WebDriver' object has no attribute 'find_elements_by_tag_name'",
     "output_type": "error",
     "traceback": [
      "\u001b[0;31m---------------------------------------------------------------------------\u001b[0m",
      "\u001b[0;31mAttributeError\u001b[0m                            Traceback (most recent call last)",
      "\u001b[1;32m/home/maber/web-table-parser/Notebook2.ipynb Célula 3\u001b[0m line \u001b[0;36m3\n\u001b[1;32m      <a href='vscode-notebook-cell://wsl%2Bubuntu-22.04/home/maber/web-table-parser/Notebook2.ipynb#W2sdnNjb2RlLXJlbW90ZQ%3D%3D?line=0'>1</a>\u001b[0m browser\u001b[39m.\u001b[39mget(\u001b[39m\"\u001b[39m\u001b[39mhttps://pt.wikipedia.org/wiki/Lista_de_capitais_do_Brasil_por_área\u001b[39m\u001b[39m\"\u001b[39m)\n\u001b[0;32m----> <a href='vscode-notebook-cell://wsl%2Bubuntu-22.04/home/maber/web-table-parser/Notebook2.ipynb#W2sdnNjb2RlLXJlbW90ZQ%3D%3D?line=2'>3</a>\u001b[0m \u001b[39mfor\u001b[39;00m tr \u001b[39min\u001b[39;00m browser\u001b[39m.\u001b[39;49mfind_elements_by_tag_name(\u001b[39m\"\u001b[39m\u001b[39mtr\u001b[39m\u001b[39m\"\u001b[39m):\n\u001b[1;32m      <a href='vscode-notebook-cell://wsl%2Bubuntu-22.04/home/maber/web-table-parser/Notebook2.ipynb#W2sdnNjb2RlLXJlbW90ZQ%3D%3D?line=3'>4</a>\u001b[0m     \u001b[39mfor\u001b[39;00m td \u001b[39min\u001b[39;00m tr\u001b[39m.\u001b[39mfind_elements_by_tag_name(\u001b[39m\"\u001b[39m\u001b[39mtd\u001b[39m\u001b[39m\"\u001b[39m):\n\u001b[1;32m      <a href='vscode-notebook-cell://wsl%2Bubuntu-22.04/home/maber/web-table-parser/Notebook2.ipynb#W2sdnNjb2RlLXJlbW90ZQ%3D%3D?line=4'>5</a>\u001b[0m         \u001b[39mprint\u001b[39m(td\u001b[39m.\u001b[39mget_attribute(\u001b[39m\"\u001b[39m\u001b[39minnerText\u001b[39m\u001b[39m\"\u001b[39m))\n",
      "\u001b[0;31mAttributeError\u001b[0m: 'WebDriver' object has no attribute 'find_elements_by_tag_name'"
     ]
    }
   ],
   "source": [
    "browser.get(\"https://pt.wikipedia.org/wiki/Lista_de_capitais_do_Brasil_por_área\")\n",
    "\n",
    "for tr in browser.find_elements_by_tag_name(\"tr\"):\n",
    "    for td in tr.find_elements_by_tag_name(\"td\"):\n",
    "        print(td.get_attribute(\"innerText\"))"
   ]
  },
  {
   "cell_type": "code",
   "execution_count": null,
   "metadata": {},
   "outputs": [],
   "source": [
    "browser.quit()"
   ]
  }
 ],
 "metadata": {
  "kernelspec": {
   "display_name": "venv",
   "language": "python",
   "name": "python3"
  },
  "language_info": {
   "codemirror_mode": {
    "name": "ipython",
    "version": 3
   },
   "file_extension": ".py",
   "mimetype": "text/x-python",
   "name": "python",
   "nbconvert_exporter": "python",
   "pygments_lexer": "ipython3",
   "version": "3.10.12"
  },
  "orig_nbformat": 4
 },
 "nbformat": 4,
 "nbformat_minor": 2
}
