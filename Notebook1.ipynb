{
 "cells": [
  {
   "cell_type": "code",
   "execution_count": 1,
   "metadata": {},
   "outputs": [],
   "source": [
    "# MAIN\n",
    "# packages urllib, beatiful soup, html5, pandas\n",
    "#\n",
    "from src.webtableparser1 import WebTableParser"
   ]
  },
  {
   "cell_type": "code",
   "execution_count": 2,
   "metadata": {},
   "outputs": [],
   "source": [
    "#\n",
    "# Site capture and parsing\n",
    "site = WebTableParser('https://pt.wikipedia.org/wiki/Lista_de_capitais_do_Brasil_por_%C3%A1rea',\n",
    "                       'wikitable sortable')"
   ]
  },
  {
   "cell_type": "code",
   "execution_count": 3,
   "metadata": {},
   "outputs": [],
   "source": [
    "table = site.capture()"
   ]
  },
  {
   "cell_type": "code",
   "execution_count": 4,
   "metadata": {},
   "outputs": [],
   "source": [
    "df = site.parse(table)"
   ]
  },
  {
   "cell_type": "code",
   "execution_count": 5,
   "metadata": {},
   "outputs": [
    {
     "name": "stdout",
     "output_type": "stream",
     "text": [
      "   Posição\\n Sede de governo\\n Código do IBGE\\n  Unidade federativa\\n  \\\n",
      "0          1       Porto Velho          1100205              Rondônia   \n",
      "1          2            Manaus          1302603              Amazonas   \n",
      "2          3        Rio Branco          1200401                  Acre   \n",
      "3          4      Campo Grande          5002704    Mato Grosso do Sul   \n",
      "4          5            Macapá          1600303                 Amapá   \n",
      "5          6          Brasília          5300108      Distrito Federal   \n",
      "6          7         Boa Vista          1400100               Roraima   \n",
      "7          8            Cuiabá          5103403           Mato Grosso   \n",
      "8          9            Palmas          1721000             Tocantins   \n",
      "9         10         São Paulo          3550308             São Paulo   \n",
      "10        11          Teresina          2211001                 Piauí   \n",
      "11        12    Rio de Janeiro          3304557        Rio de Janeiro   \n",
      "12        13             Belém          1501402                  Pará   \n",
      "13        14           Goiânia          5208707                 Goiás   \n",
      "14        15  Salvador[nota 1]          2927408                 Bahia   \n",
      "15        16     Florianópolis          4205407        Santa Catarina   \n",
      "16        17          São Luís          2111300              Maranhão   \n",
      "17        18            Maceió          2704302               Alagoas   \n",
      "18        19      Porto Alegre          4314902     Rio Grande do Sul   \n",
      "19        20          Curitiba          4106902                Paraná   \n",
      "20        21    Belo Horizonte          3106200          Minas Gerais   \n",
      "21        22         Fortaleza          2304400                 Ceará   \n",
      "22        23            Recife          2611606            Pernambuco   \n",
      "23        24       João Pessoa          2507507               Paraíba   \n",
      "24        25           Aracaju          2800308               Sergipe   \n",
      "25        26             Natal          2408102   Rio Grande do Norte   \n",
      "26        27           Vitória          3205309        Espírito Santo   \n",
      "\n",
      "    Área (km²)\\n  \n",
      "0   34 090,952\\n  \n",
      "1   11 401,092\\n  \n",
      "2    8 834,942\\n  \n",
      "3    8 082,978\\n  \n",
      "4    6 563,849\\n  \n",
      "5    5 760,783\\n  \n",
      "6    5 687,037\\n  \n",
      "7     4 327,45\\n  \n",
      "8    2 227,444\\n  \n",
      "9    1 521,110\\n  \n",
      "10   1 391,046\\n  \n",
      "11   1 200,329\\n  \n",
      "12   1 059,466\\n  \n",
      "13     728,841\\n  \n",
      "14     693,453\\n  \n",
      "15     674,844\\n  \n",
      "16     582,974\\n  \n",
      "17     509,320\\n  \n",
      "18     495,390\\n  \n",
      "19     434,892\\n  \n",
      "20     331,354\\n  \n",
      "21     312,353\\n  \n",
      "22     218,843\\n  \n",
      "23     210,044\\n  \n",
      "24     182,163\\n  \n",
      "25     167,401\\n  \n",
      "26      97,123\\n  \n"
     ]
    }
   ],
   "source": [
    "print(df)"
   ]
  }
 ],
 "metadata": {
  "kernelspec": {
   "display_name": "venv",
   "language": "python",
   "name": "python3"
  },
  "language_info": {
   "codemirror_mode": {
    "name": "ipython",
    "version": 3
   },
   "file_extension": ".py",
   "mimetype": "text/x-python",
   "name": "python",
   "nbconvert_exporter": "python",
   "pygments_lexer": "ipython3",
   "version": "3.10.12"
  },
  "orig_nbformat": 2
 },
 "nbformat": 4,
 "nbformat_minor": 2
}
