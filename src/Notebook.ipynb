{
 "metadata": {
  "language_info": {
   "codemirror_mode": {
    "name": "ipython",
    "version": 3
   },
   "file_extension": ".py",
   "mimetype": "text/x-python",
   "name": "python",
   "nbconvert_exporter": "python",
   "pygments_lexer": "ipython3",
   "version": "3.8.3-final"
  },
  "orig_nbformat": 2,
  "kernelspec": {
   "name": "python_defaultSpec_1600530969102",
   "display_name": "Python 3.8.3 64-bit ('venv': venv)"
  }
 },
 "nbformat": 4,
 "nbformat_minor": 2,
 "cells": [
  {
   "cell_type": "code",
   "execution_count": 20,
   "metadata": {
    "tags": []
   },
   "outputs": [],
   "source": [
    "from webtableparser import WebTableParser\n",
    "import numpy\n",
    "\n",
    "# import  re\n",
    "\n",
    "site = WebTableParser()\n",
    "site.create('https://www.fundsexplorer.com.br/ranking', 'table table-hover')\n",
    "table = site.capture()\n",
    "df = site.parse(table)\n",
    "\n",
    "# Dataframe manipulation\n",
    "df.columns = ['codigo', 'setor', 'precoatualR$', 'liqdiariaNeg', 'dividR$', 'divyield%', 'dy3macum%', 'dy6macum%', 'dy12macum%', 'dy3mmedia%', 'dy6mmedia%', 'dy12mmedia%', 'dyano%',  'varpreco%', 'rentper%', 'rentacum%', 'patrliqR$', 'vpaR$', 'p/vpaN', 'dypatr%', 'varpatr%', 'rentpatrper%', 'rentpatracum%', 'vacfisica%', 'vacfinan%', 'qtdativosN']"
   ]
  },
  {
   "cell_type": "code",
   "execution_count": 21,
   "metadata": {},
   "outputs": [],
   "source": [
    "#df['precoatualR$'] = df['precoatualR$'].apply(lambda x: str(x).replace('R$',''))\n",
    "df = df.applymap(lambda x: str(x).replace('R$',''))"
   ]
  },
  {
   "cell_type": "code",
   "execution_count": 22,
   "metadata": {},
   "outputs": [],
   "source": [
    "df = df.applymap(lambda x: str(x).replace('%',''))"
   ]
  },
  {
   "cell_type": "code",
   "execution_count": 23,
   "metadata": {},
   "outputs": [],
   "source": [
    "df = df.applymap(lambda x: str(x).replace(',','.'))"
   ]
  },
  {
   "cell_type": "code",
   "execution_count": 24,
   "metadata": {},
   "outputs": [],
   "source": [
    "df['setor'] = df['setor'].apply(lambda x: str(x).replace('Ã','i'))\n",
    "# df['setor'] = df['setor'].apply(lambda x: re.sub(r'Ã', 'i', x))"
   ]
  },
  {
   "cell_type": "code",
   "execution_count": 28,
   "metadata": {
    "tags": []
   },
   "outputs": [
    {
     "output_type": "stream",
     "name": "stdout",
     "text": "0        218.0\n1      48432.0\n2        572.0\n3          9.0\n4        623.0\n        ...   \n177     2113.0\n178    32008.0\n179    28794.0\n180       48.0\n181     9575.0\nName: liqdiariaNeg, Length: 182, dtype: object\n"
    }
   ],
   "source": [
    "print(df['liqdiariaNeg'])"
   ]
  },
  {
   "cell_type": "code",
   "execution_count": 30,
   "metadata": {},
   "outputs": [],
   "source": [
    "df['setor'] = df['setor'].astype('string')\n",
    "#df['precoatualR$'] = df['precoatualR$'].astype('float64')\n",
    "#df['liqdiariaNeg'] = df['liqdiariaNeg'].astype('int')\n",
    "#df['dividR$'] = df['dividR$'].astype('float64')"
   ]
  },
  {
   "cell_type": "code",
   "execution_count": 26,
   "metadata": {
    "tags": []
   },
   "outputs": [
    {
     "output_type": "stream",
     "name": "stdout",
     "text": "<class 'pandas.core.frame.DataFrame'>\nRangeIndex: 182 entries, 0 to 181\nData columns (total 26 columns):\n #   Column         Non-Null Count  Dtype \n---  ------         --------------  ----- \n 0   codigo         182 non-null    object\n 1   setor          182 non-null    string\n 2   precoatualR$   182 non-null    object\n 3   liqdiariaNeg   182 non-null    object\n 4   dividR$        182 non-null    object\n 5   divyield%      182 non-null    object\n 6   dy3macum%      182 non-null    object\n 7   dy6macum%      182 non-null    object\n 8   dy12macum%     182 non-null    object\n 9   dy3mmedia%     182 non-null    object\n 10  dy6mmedia%     182 non-null    object\n 11  dy12mmedia%    182 non-null    object\n 12  dyano%         182 non-null    object\n 13  varpreco%      182 non-null    object\n 14  rentper%       182 non-null    object\n 15  rentacum%      182 non-null    object\n 16  patrliqR$      182 non-null    object\n 17  vpaR$          182 non-null    object\n 18  p/vpaN         182 non-null    object\n 19  dypatr%        182 non-null    object\n 20  varpatr%       182 non-null    object\n 21  rentpatrper%   182 non-null    object\n 22  rentpatracum%  182 non-null    object\n 23  vacfisica%     182 non-null    object\n 24  vacfinan%      182 non-null    object\n 25  qtdativosN     182 non-null    object\ndtypes: object(25), string(1)\nmemory usage: 37.1+ KB\nNone\n"
    }
   ],
   "source": [
    "print(df.info())"
   ]
  },
  {
   "cell_type": "code",
   "execution_count": null,
   "metadata": {},
   "outputs": [],
   "source": []
  }
 ]
}