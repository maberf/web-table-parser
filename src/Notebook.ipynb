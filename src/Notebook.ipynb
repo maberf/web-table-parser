{
 "metadata": {
  "language_info": {
   "codemirror_mode": {
    "name": "ipython",
    "version": 3
   },
   "file_extension": ".py",
   "mimetype": "text/x-python",
   "name": "python",
   "nbconvert_exporter": "python",
   "pygments_lexer": "ipython3",
   "version": "3.8.3-final"
  },
  "orig_nbformat": 2,
  "kernelspec": {
   "name": "Python 3.8.3 64-bit ('venv')",
   "display_name": "Python 3.8.3 64-bit ('venv')",
   "metadata": {
    "interpreter": {
     "hash": "5136b7cfd7b55cc6a35dd48815ea136c6df8ce371f16006def54305c989af131"
    }
   }
  }
 },
 "nbformat": 4,
 "nbformat_minor": 2,
 "cells": [
  {
   "cell_type": "code",
   "execution_count": 1,
   "metadata": {
    "tags": []
   },
   "outputs": [],
   "source": [
    "from webtableparser import WebTableParser\n",
    "import pandas as pd\n",
    "# import numpy as np\n",
    "# import re\n",
    "\n",
    "site = WebTableParser()\n",
    "site.create('https://www.fundsexplorer.com.br/ranking', 'table table-hover')\n",
    "table = site.capture()\n",
    "df = site.parse(table)\n"
   ]
  },
  {
   "cell_type": "code",
   "execution_count": 2,
   "metadata": {},
   "outputs": [],
   "source": [
    "# Dataframe manipulation should be done according with the table\n",
    "df.columns = ['codigo', 'setor', 'precoatualR$', 'liqdiariaNeg', 'dividR$', 'divyield%', 'dy3macum%', 'dy6macum%', 'dy12macum%', 'dy3mmedia%', 'dy6mmedia%', 'dy12mmedia%', 'dyano%',  'varpreco%', 'rentper%', 'rentacum%', 'patrliqR$', 'vpaR$', 'p/vpaN', 'dypatr%', 'varpatr%', 'rentpatrper%', 'rentpatracum%', 'vacfisica%', 'vacfinan%', 'qtdativosN']\n",
    "df = df.applymap(lambda x: str(x).replace('R$', ''))\n",
    "df = df.applymap(lambda x: str(x).replace('%', ''))\n",
    "df['precoatualR$'] = df['precoatualR$'].apply(lambda x: str(x).replace('.', ''))\n",
    "df['patrliqR$'] = df['patrliqR$'].apply(lambda x: str(x).replace('.', ''))\n",
    "df['vpaR$'] = df['vpaR$'].apply(lambda x: str(x).replace('.', ''))\n",
    "df = df.applymap(lambda x: str(x).replace(',', '.'))\n",
    "df['setor'] = df['setor'].apply(lambda x: str(x).replace('Ã', 'i'))\n",
    "# df['setor'] = df['setor'].apply(lambda x: re.sub(r'Ã ', 'i', x)) #alternative using regex (import re needed)"
   ]
  },
  {
   "cell_type": "code",
   "execution_count": 3,
   "metadata": {
    "tags": []
   },
   "outputs": [],
   "source": [
    "df['codigo'] = df['codigo'].astype('string')\n",
    "df['setor'] = df['setor'].astype('string')\n",
    "df['precoatualR$'] = pd.to_numeric(df['precoatualR$'], errors='coerce')\n",
    "df['liqdiariaNeg'] = pd.to_numeric(df['liqdiariaNeg'], errors='coerce')\n",
    "df['dividR$'] = pd.to_numeric(df['dividR$'], errors='coerce')\n",
    "df['divyield%'] = pd.to_numeric(df['divyield%'], errors='coerce')\n",
    "df['dy3macum%'] = pd.to_numeric(df['dy3macum%'], errors='coerce')\n",
    "df['dy6macum%'] = pd.to_numeric(df['dy6macum%'], errors='coerce')\n",
    "df['dy12macum%'] = pd.to_numeric(df['dy12macum%'], errors='coerce')\n",
    "df['dy3mmedia%'] = pd.to_numeric(df['dy3mmedia%'], errors='coerce')\n",
    "df['dy6mmedia%'] = pd.to_numeric(df['dy6mmedia%'], errors='coerce')\n",
    "df['dy12mmedia%'] = pd.to_numeric(df['dy12mmedia%'], errors='coerce')\n",
    "df['dyano%'] = pd.to_numeric(df['dyano%'], errors='coerce')\n",
    "df['varpreco%'] = pd.to_numeric(df['varpreco%'], errors='coerce')\n",
    "df['rentper%'] = pd.to_numeric(df['rentper%'], errors='coerce')\n",
    "df['rentacum%'] = pd.to_numeric(df['rentacum%'], errors='coerce')\n",
    "df['patrliqR$'] = pd.to_numeric(df['patrliqR$'], errors='coerce')\n",
    "df['vpaR$'] = pd.to_numeric(df['vpaR$'], errors='coerce')\n",
    "df['p/vpaN'] = pd.to_numeric(df['p/vpaN'], errors='coerce')\n",
    "df['dypatr%'] = pd.to_numeric(df['dypatr%'], errors='coerce')\n",
    "df['varpatr%'] = pd.to_numeric(df['varpatr%'], errors='coerce')\n",
    "df['rentpatrper%'] = pd.to_numeric(df['rentpatrper%'], errors='coerce')\n",
    "df['rentpatracum%'] = pd.to_numeric(df['rentpatracum%'], errors='coerce')\n",
    "df['vacfisica%'] = pd.to_numeric(df['vacfisica%'], errors='coerce')\n",
    "df['vacfinan%'] = pd.to_numeric(df['vacfinan%'], errors='coerce')\n",
    "df['qtdativosN'] = pd.to_numeric(df['qtdativosN'], errors='coerce')\n",
    "df = df.fillna(0)  # all NaNs filled with zero\n",
    "# df['liqdiariaNeg'] = df['liqdiariaNeg'].fillna(0)  # column by column if needed\n",
    "# df['liqdiariaNeg'] = df['liqdiariaNeg'].replace(np.nan, 0, regex=True)  # column by column with regex\n",
    "df['liqdiariaNeg'] = df['liqdiariaNeg'].astype('int64')\n",
    "df['qtdativosN'] = df['qtdativosN'].astype('int64')"
   ]
  },
  {
   "cell_type": "code",
   "execution_count": 4,
   "metadata": {
    "tags": []
   },
   "outputs": [],
   "source": [
    "# Filters in real state funds\n",
    "fiis = df.loc[df['qtdativosN'] >= 10]  # 1st filter >= 10 assets"
   ]
  },
  {
   "cell_type": "code",
   "execution_count": 5,
   "metadata": {
    "tags": []
   },
   "outputs": [],
   "source": [
    "fiis = fiis.loc[fiis['liqdiariaNeg'] >= 1000]  # 2nd filter tradings >= 1000 tradings/day"
   ]
  },
  {
   "cell_type": "code",
   "execution_count": 6,
   "metadata": {
    "tags": []
   },
   "outputs": [],
   "source": [
    "fiis = fiis.loc[fiis['patrliqR$'] >= 500000000.00]  # 3rd filter assets > BRL 500 MM"
   ]
  },
  {
   "cell_type": "code",
   "execution_count": 7,
   "metadata": {
    "tags": []
   },
   "outputs": [],
   "source": [
    "fiis = fiis.loc[fiis['dy12macum%'] >= 4.00]  # 4th filter DY > 4%"
   ]
  },
  {
   "cell_type": "code",
   "execution_count": 8,
   "metadata": {
    "tags": []
   },
   "outputs": [],
   "source": [
    "fiis = fiis.loc[fiis['p/vpaN'] <= 1.25]  # 5th filter P/VPA <= 1.25"
   ]
  },
  {
   "cell_type": "code",
   "execution_count": 9,
   "metadata": {
    "tags": []
   },
   "outputs": [],
   "source": [
    "fiis = fiis.loc[fiis['vacfisica%'] <= 15]  # 6th filter vacancy <= 15%"
   ]
  },
  {
   "cell_type": "code",
   "execution_count": 10,
   "metadata": {},
   "outputs": [
    {
     "output_type": "execute_result",
     "data": {
      "text/plain": "'temp-plot.html'"
     },
     "metadata": {},
     "execution_count": 10
    }
   ],
   "source": [
    "from matplotlib import pyplot as plt\n",
    "import plotly.offline as py\n",
    "import plotly.graph_objs as go\n",
    "#py.init_notebook_mode(connected=True)\n",
    "\n",
    "trace1 = go.Bar(x=fiis['codigo'],\n",
    "                y=fiis['p/vpaN'])\n",
    "trace2 = go.Bar(x=fiis['codigo'],\n",
    "                y=fiis['dy12macum%'])\n",
    "trace3 = go.Bar(x=fiis['codigo'],\n",
    "                y=fiis['vacfisica%'])\n",
    "data = [trace1, trace2, trace3]\n",
    "py.plot(data)"
   ]
  },
  {
   "cell_type": "code",
   "execution_count": 11,
   "metadata": {
    "tags": []
   },
   "outputs": [],
   "source": [
    "\n",
    "#pd.options.plotting.backend=\"plotly\"\n",
    "#fiis.plot(kind='bar', x='codigo', y='dy12macum%')\n",
    "#fiis['dy12macum%'].plot()"
   ]
  },
  {
   "cell_type": "code",
   "execution_count": null,
   "metadata": {},
   "outputs": [],
   "source": []
  }
 ]
}