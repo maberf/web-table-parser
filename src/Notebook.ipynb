{
 "metadata": {
  "language_info": {
   "codemirror_mode": {
    "name": "ipython",
    "version": 3
   },
   "file_extension": ".py",
   "mimetype": "text/x-python",
   "name": "python",
   "nbconvert_exporter": "python",
   "pygments_lexer": "ipython3",
   "version": "3.8.3-final"
  },
  "orig_nbformat": 2,
  "kernelspec": {
   "name": "Python 3.8.3 64-bit ('venv')",
   "display_name": "Python 3.8.3 64-bit ('venv')",
   "metadata": {
    "interpreter": {
     "hash": "5136b7cfd7b55cc6a35dd48815ea136c6df8ce371f16006def54305c989af131"
    }
   }
  }
 },
 "nbformat": 4,
 "nbformat_minor": 2,
 "cells": [
  {
   "cell_type": "code",
   "execution_count": null,
   "metadata": {
    "tags": []
   },
   "outputs": [],
   "source": [
    "# MAIN\n",
    "# packages urllib, beatiful soup, html5, pandas\n",
    "#\n",
    "# from webtableparserpreviousversion import WebTableParser\n",
    "from webtableparser import WebTableParser\n",
    "#"
   ]
  },
  {
   "cell_type": "code",
   "execution_count": null,
   "metadata": {
    "tags": []
   },
   "outputs": [],
   "source": [
    "# Sites 1 e 2 for testing (remove comments)\n",
    "'''site1 = WebTableParser()\n",
    "site1.create('https://calculador.com.br/tabela/indice/IGP-M',\n",
    "             'table table-bordered table-striped table-hover table-fixed mb-0')\n",
    "table1 = site1.capture()\n",
    "df1 = site1.parse(table1)\n",
    "print(df1)'''"
   ]
  },
  {
   "cell_type": "code",
   "execution_count": null,
   "metadata": {
    "tags": []
   },
   "outputs": [],
   "source": [
    "# Site by webtableparserpreviousversion module\n",
    "'''site2 = WebTableParser('https://pt.wikipedia.org/wiki/Lista_de_capitais_do_Brasil_por_%C3%A1rea',\n",
    "                       'wikitable sortable')\n",
    "table2 = site2.capture()\n",
    "df2 = site2.parse(table2)\n",
    "print(df2)'''"
   ]
  },
  {
   "cell_type": "code",
   "execution_count": null,
   "metadata": {
    "tags": []
   },
   "outputs": [],
   "source": [
    "# site capture and parsing\n",
    "site = WebTableParser()\n",
    "site.create('https://www.fundsexplorer.com.br/ranking',\n",
    "            'table table-hover')\n",
    "table = site.capture()\n",
    "df = site.parse(table)\n",
    "print(df)\n",
    "#\n",
    "# Now you have to process the dataframe, \"clean and organize\" it!"
   ]
  }
 ]
}