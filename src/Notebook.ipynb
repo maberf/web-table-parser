{
 "metadata": {
  "language_info": {
   "codemirror_mode": {
    "name": "ipython",
    "version": 3
   },
   "file_extension": ".py",
   "mimetype": "text/x-python",
   "name": "python",
   "nbconvert_exporter": "python",
   "pygments_lexer": "ipython3",
   "version": "3.8.3-final"
  },
  "orig_nbformat": 2,
  "kernelspec": {
   "name": "Python 3.8.3 64-bit ('venvw')",
   "display_name": "Python 3.8.3 64-bit ('venvw')",
   "metadata": {
    "interpreter": {
     "hash": "5f205ff6da40c016131420b320ffebb1d37f22151d9c7e74a2037bed91cb9a79"
    }
   }
  }
 },
 "nbformat": 4,
 "nbformat_minor": 2,
 "cells": [
  {
   "cell_type": "code",
   "execution_count": 1,
   "metadata": {
    "tags": []
   },
   "outputs": [],
   "source": [
    "# MAIN\n",
    "# packages urllib, beatiful soup, html5, pandas\n",
    "#\n",
    "# from webtableparserpreviousversion import WebTableParser\n",
    "from webtableparser import WebTableParser\n",
    "#"
   ]
  },
  {
   "cell_type": "code",
   "execution_count": 2,
   "metadata": {
    "tags": []
   },
   "outputs": [
    {
     "output_type": "execute_result",
     "data": {
      "text/plain": [
       "\"site1 = WebTableParser()\\nsite1.create('https://calculador.com.br/tabela/indice/IGP-M',\\n             'table table-bordered table-striped table-hover table-fixed mb-0')\\ntable1 = site1.capture()\\ndf1 = site1.parse(table1)\\nprint(df1)\""
      ]
     },
     "metadata": {},
     "execution_count": 2
    }
   ],
   "source": [
    "# Sites 1 e 2 for testing (remove comments)\n",
    "'''site1 = WebTableParser()\n",
    "site1.create('https://calculador.com.br/tabela/indice/IGP-M',\n",
    "             'table table-bordered table-striped table-hover table-fixed mb-0')\n",
    "table1 = site1.capture()\n",
    "df1 = site1.parse(table1)\n",
    "print(df1)'''"
   ]
  },
  {
   "cell_type": "code",
   "execution_count": 3,
   "metadata": {
    "tags": []
   },
   "outputs": [
    {
     "output_type": "execute_result",
     "data": {
      "text/plain": [
       "\"site2 = WebTableParser('https://pt.wikipedia.org/wiki/Lista_de_capitais_do_Brasil_por_%C3%A1rea',\\n                       'wikitable sortable')\\ntable2 = site2.capture()\\ndf2 = site2.parse(table2)\\nprint(df2)\""
      ]
     },
     "metadata": {},
     "execution_count": 3
    }
   ],
   "source": [
    "# Site by webtableparserpreviousversion module\n",
    "'''site2 = WebTableParser('https://pt.wikipedia.org/wiki/Lista_de_capitais_do_Brasil_por_%C3%A1rea',\n",
    "                       'wikitable sortable')\n",
    "table2 = site2.capture()\n",
    "df2 = site2.parse(table2)\n",
    "print(df2)'''"
   ]
  },
  {
   "cell_type": "code",
   "execution_count": 4,
   "metadata": {
    "tags": []
   },
   "outputs": [
    {
     "output_type": "stream",
     "name": "stdout",
     "text": [
      "    CÃ³digodo fundo                 Setor PreÃ§o Atual Liquidez DiÃ¡ria  \\\n0            FIVN11             Shoppings      R$ 4,00           1570.0   \n1            BZLI11  TÃ­tulos e Val. Mob.     R$ 14,90           6123.0   \n2            XTED11    Lajes Corporativas      R$ 7,32           3950.0   \n3            ALMI11    Lajes Corporativas  R$ 1.224,67            160.0   \n4            DOMC11    Lajes Corporativas    R$ 439,00             42.0   \n..              ...                   ...          ...              ...   \n186          XPIN11                Outros    R$ 115,87          13341.0   \n187          XPML11             Shoppings    R$ 111,30          54889.0   \n188          ALZR11            LogÃ­stica    R$ 132,98          14439.0   \n189          FCFL11                Outros    R$ 118,00            520.0   \n190          PVBI11    Lajes Corporativas     R$ 99,25          20921.0   \n\n    Dividendo DividendYield DY (3M)Acumulado DY (6M)Acumulado  \\\n0     R$ 0,00         0,00%            0,00%            0,00%   \n1     R$ 0,00         0,00%            0,00%            0,00%   \n2     R$ 0,00         0,00%            0,00%            0,00%   \n3     R$ 0,00         0,00%            0,00%            0,00%   \n4     R$ 0,00         0,00%            0,00%            0,00%   \n..        ...           ...              ...              ...   \n186   R$ 0,62         0,53%            1,61%            3,18%   \n187   R$ 0,26         0,24%            0,43%            1,09%   \n188   R$ 0,36         0,27%            1,14%            2,65%   \n189   R$ 0,56         0,47%            1,50%            3,00%   \n190   R$ 0,45         0,45%            0,45%            0,45%   \n\n    DY (12M)Acumulado DY (3M)MÃ©dia  ...     PatrimÃ´nioLÃ­q.          VPA  \\\n0               0,00%         0,00%  ...     R$ 71.569.862,13      R$ 7,60   \n1               0,00%         0,00%  ...    R$ 428.217.278,87     R$ 11,86   \n2               0,00%         0,00%  ...     R$ 26.024.375,31     R$ 14,52   \n3               0,00%         0,00%  ...    R$ 221.750.586,12  R$ 1.994,57   \n4               0,00%         0,00%  ...    R$ 259.767.889,57  R$ 1.062,97   \n..                ...           ...  ...                  ...          ...   \n186             6,38%         0,54%  ...    R$ 730.494.415,38    R$ 110,91   \n187             2,73%         0,14%  ...  R$ 2.025.884.509,00    R$ 111,27   \n188             5,63%         0,38%  ...    R$ 459.346.206,31    R$ 102,54   \n189             5,66%         0,50%  ...    R$ 367.848.969,10    R$ 105,89   \n190             0,45%         0,15%  ...    R$ 938.886.911,97     R$ 96,59   \n\n    P/VPA DYPatrimonial VariaÃ§Ã£oPatrimonial Rentab. Patr.no PerÃ­odo  \\\n0    0,53           N/A                   N/A                      N/A   \n1    1,26           N/A                   N/A                      N/A   \n2    0,50           N/A                   N/A                      N/A   \n3    0,61           N/A                   N/A                      N/A   \n4    0,41           N/A                   N/A                      N/A   \n..    ...           ...                   ...                      ...   \n186  1,04           N/A                   N/A                      N/A   \n187  1,00           N/A                   N/A                      N/A   \n188  1,30           N/A                   N/A                      N/A   \n189  1,11           N/A                   N/A                      N/A   \n190  1,03           N/A                   N/A                      N/A   \n\n    Rentab. Patr.Acumulada VacÃ¢nciaFÃ­sica VacÃ¢nciaFinanceira  \\\n0                      N/A           56,00%                 N/A   \n1                      N/A              N/A                 N/A   \n2                      N/A          100,00%             100,00%   \n3                      N/A           71,19%                 N/A   \n4                      N/A           23,44%                 N/A   \n..                     ...              ...                 ...   \n186                    N/A            8,90%                 N/A   \n187                    N/A            4,80%                 N/A   \n188                    N/A            0,00%                 N/A   \n189                    N/A            0,00%                 N/A   \n190                    N/A            0,00%               0,00%   \n\n    QuantidadeAtivos  \n0                  1  \n1                  0  \n2                  1  \n3                  1  \n4                  1  \n..               ...  \n186                5  \n187               13  \n188                7  \n189                1  \n190                2  \n\n[191 rows x 26 columns]\n"
     ]
    }
   ],
   "source": [
    "# site capture and parsing\n",
    "site = WebTableParser()\n",
    "site.create('https://www.fundsexplorer.com.br/ranking',\n",
    "            'table table-hover')\n",
    "table = site.capture()\n",
    "df = site.parse(table)\n",
    "print(df)\n",
    "#\n",
    "# Now you have to process the dataframe, \"clean and organize\" it!"
   ]
  }
 ]
}