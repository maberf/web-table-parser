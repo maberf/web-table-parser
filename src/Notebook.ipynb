{
 "metadata": {
  "language_info": {
   "codemirror_mode": {
    "name": "ipython",
    "version": 3
   },
   "file_extension": ".py",
   "mimetype": "text/x-python",
   "name": "python",
   "nbconvert_exporter": "python",
   "pygments_lexer": "ipython3",
   "version": "3.8.3-final"
  },
  "orig_nbformat": 2,
  "kernelspec": {
   "name": "Python 3.8.3 64-bit ('venv')",
   "display_name": "Python 3.8.3 64-bit ('venv')",
   "metadata": {
    "interpreter": {
     "hash": "5136b7cfd7b55cc6a35dd48815ea136c6df8ce371f16006def54305c989af131"
    }
   }
  }
 },
 "nbformat": 4,
 "nbformat_minor": 2,
 "cells": [
  {
   "cell_type": "code",
   "execution_count": 1,
   "metadata": {
    "tags": []
   },
   "outputs": [],
   "source": [
    "from webtableparser import WebTableParser\n",
    "import pandas as pd\n",
    "# import numpy as np\n",
    "# import re\n",
    "\n",
    "site = WebTableParser()\n",
    "site.create('https://www.fundsexplorer.com.br/ranking', 'table table-hover')\n",
    "table = site.capture()\n",
    "df = site.parse(table)\n"
   ]
  },
  {
   "cell_type": "code",
   "execution_count": 2,
   "metadata": {},
   "outputs": [],
   "source": [
    "# Dataframe manipulation should be done according with the table\n",
    "df.columns = ['codigo', 'setor', 'precoatualR$', 'liqdiariaNeg', 'dividR$', 'divyield%', 'dy3macum%', 'dy6macum%', 'dy12macum%', 'dy3mmedia%', 'dy6mmedia%', 'dy12mmedia%', 'dyano%',  'varpreco%', 'rentper%', 'rentacum%', 'patrliqR$', 'vpaR$', 'p/vpaN', 'dypatr%', 'varpatr%', 'rentpatrper%', 'rentpatracum%', 'vacfisica%', 'vacfinan%', 'qtdativosN']\n",
    "df = df.applymap(lambda x: str(x).replace('R$', ''))\n",
    "df = df.applymap(lambda x: str(x).replace('%', ''))\n",
    "df['precoatualR$'] = df['precoatualR$'].apply(lambda x: str(x).replace('.', ''))\n",
    "df['patrliqR$'] = df['patrliqR$'].apply(lambda x: str(x).replace('.', ''))\n",
    "df['vpaR$'] = df['vpaR$'].apply(lambda x: str(x).replace('.', ''))\n",
    "df = df.applymap(lambda x: str(x).replace(',', '.'))\n",
    "df['setor'] = df['setor'].apply(lambda x: str(x).replace('Ã', 'i'))\n",
    "# df['setor'] = df['setor'].apply(lambda x: re.sub(r'Ã ', 'i', x)) #alternative using regex (import re needed)"
   ]
  },
  {
   "cell_type": "code",
   "execution_count": 3,
   "metadata": {
    "tags": []
   },
   "outputs": [],
   "source": [
    "df['codigo'] = df['codigo'].astype('string')\n",
    "df['setor'] = df['setor'].astype('string')\n",
    "df['precoatualR$'] = pd.to_numeric(df['precoatualR$'], errors='coerce')\n",
    "df['liqdiariaNeg'] = pd.to_numeric(df['liqdiariaNeg'], errors='coerce')\n",
    "df['dividR$'] = pd.to_numeric(df['dividR$'], errors='coerce')\n",
    "df['divyield%'] = pd.to_numeric(df['divyield%'], errors='coerce')\n",
    "df['dy3macum%'] = pd.to_numeric(df['dy3macum%'], errors='coerce')\n",
    "df['dy6macum%'] = pd.to_numeric(df['dy6macum%'], errors='coerce')\n",
    "df['dy12macum%'] = pd.to_numeric(df['dy12macum%'], errors='coerce')\n",
    "df['dy3mmedia%'] = pd.to_numeric(df['dy3mmedia%'], errors='coerce')\n",
    "df['dy6mmedia%'] = pd.to_numeric(df['dy6mmedia%'], errors='coerce')\n",
    "df['dy12mmedia%'] = pd.to_numeric(df['dy12mmedia%'], errors='coerce')\n",
    "df['dyano%'] = pd.to_numeric(df['dyano%'], errors='coerce')\n",
    "df['varpreco%'] = pd.to_numeric(df['varpreco%'], errors='coerce')\n",
    "df['rentper%'] = pd.to_numeric(df['rentper%'], errors='coerce')\n",
    "df['rentacum%'] = pd.to_numeric(df['rentacum%'], errors='coerce')\n",
    "df['patrliqR$'] = pd.to_numeric(df['patrliqR$'], errors='coerce')\n",
    "df['vpaR$'] = pd.to_numeric(df['vpaR$'], errors='coerce')\n",
    "df['p/vpaN'] = pd.to_numeric(df['p/vpaN'], errors='coerce')\n",
    "df['dypatr%'] = pd.to_numeric(df['dypatr%'], errors='coerce')\n",
    "df['varpatr%'] = pd.to_numeric(df['varpatr%'], errors='coerce')\n",
    "df['rentpatrper%'] = pd.to_numeric(df['rentpatrper%'], errors='coerce')\n",
    "df['rentpatracum%'] = pd.to_numeric(df['rentpatracum%'], errors='coerce')\n",
    "df['vacfisica%'] = pd.to_numeric(df['vacfisica%'], errors='coerce')\n",
    "df['vacfinan%'] = pd.to_numeric(df['vacfinan%'], errors='coerce')\n",
    "df['qtdativosN'] = pd.to_numeric(df['qtdativosN'], errors='coerce')\n",
    "df = df.fillna(0)  # all NaNs filled with zero\n",
    "# df['liqdiariaNeg'] = df['liqdiariaNeg'].fillna(0)  # column by column if needed\n",
    "# df['liqdiariaNeg'] = df['liqdiariaNeg'].replace(np.nan, 0, regex=True)  # column by column with regex\n",
    "df['liqdiariaNeg'] = df['liqdiariaNeg'].astype('int64')\n",
    "df['qtdativosN'] = df['qtdativosN'].astype('int64')"
   ]
  },
  {
   "cell_type": "code",
   "execution_count": 4,
   "metadata": {
    "tags": []
   },
   "outputs": [],
   "source": [
    "# Filters in real state funds\n",
    "fiis = df.loc[df['qtdativosN'] >= 10]  # 1st filter >= 10 assets"
   ]
  },
  {
   "cell_type": "code",
   "execution_count": 5,
   "metadata": {
    "tags": []
   },
   "outputs": [],
   "source": [
    "fiis = fiis.loc[fiis['liqdiariaNeg'] >= 1000]  # 2nd filter tradings >= 1000 tradings/day"
   ]
  },
  {
   "cell_type": "code",
   "execution_count": 6,
   "metadata": {
    "tags": []
   },
   "outputs": [],
   "source": [
    "fiis = fiis.loc[fiis['patrliqR$'] >= 500000000.00]  # 3rd filter assets > BRL 500 MM"
   ]
  },
  {
   "cell_type": "code",
   "execution_count": 7,
   "metadata": {
    "tags": []
   },
   "outputs": [],
   "source": [
    "fiis = fiis.loc[fiis['dy12macum%'] >= 4.00]  # 4th filter DY > 4%"
   ]
  },
  {
   "cell_type": "code",
   "execution_count": 8,
   "metadata": {
    "tags": []
   },
   "outputs": [],
   "source": [
    "fiis = fiis.loc[fiis['p/vpaN'] <= 1.25]  # 5th filter P/VPA <= 1.25"
   ]
  },
  {
   "cell_type": "code",
   "execution_count": 9,
   "metadata": {
    "tags": []
   },
   "outputs": [
    {
     "output_type": "stream",
     "name": "stdout",
     "text": "     codigo               setor  precoatualR$  liqdiariaNeg  dividR$  \\\n27   RCRB11  Lajes Corporativas        174.89          1806     0.85   \n39   KNRI11            Hi­brido        166.50         15526     0.65   \n48   XPLG11          Logi­stica        129.90         45490     0.58   \n55   VISC11           Shoppings        111.60         24033     0.15   \n58   VILG11          Logi­stica        128.50         33044     0.60   \n66   HGRU11            Hi­brido        134.35         37947     0.68   \n67   HGBS11           Shoppings        211.13          8290     0.25   \n96   RBVA11              Outros        119.25         14266     0.85   \n113  HGLG11          Logi­stica        168.20         52107     0.78   \n131  GGRC11          Logi­stica        143.57         10083     0.68   \n140  BRCR11            Hi­brido         91.80         34170     0.46   \n150  RBRP11              Outros         92.31         27480     0.56   \n\n     divyield%  dy3macum%  dy6macum%  dy12macum%  dy3mmedia%  ...  \\\n27        0.51       1.81       3.03        5.21        0.60  ...   \n39        0.40       1.19       2.40        4.94        0.40  ...   \n48        0.46       1.36       2.86        5.90        0.45  ...   \n55        0.14       0.50       1.31        4.50        0.17  ...   \n58        0.47       1.44       2.88        6.03        0.48  ...   \n66        0.52       1.58       3.39        6.68        0.53  ...   \n67        0.12       0.40       1.15        4.14        0.13  ...   \n96        0.73       1.96       3.96        7.97        0.65  ...   \n113       0.43       1.27       2.65        5.29        0.42  ...   \n131       0.47       1.40       3.12        6.26        0.47  ...   \n140       0.51       1.49       2.96        6.14        0.50  ...   \n150       0.62       1.75       3.23        5.56        0.58  ...   \n\n        patrliqR$   vpaR$  p/vpaN  dypatr%  varpatr%  rentpatrper%  \\\n27   5.883191e+08  197.64    0.88     0.43     -0.09          0.34   \n39   3.700164e+09  156.78    1.06     0.41     -0.15          0.26   \n48   2.644291e+09  109.77    1.18     0.53      0.48          1.02   \n55   1.734197e+09  121.52    0.92     0.12      0.11          0.23   \n58   1.215057e+09  112.91    1.14     0.53      0.10          0.63   \n66   1.351133e+09  107.80    1.25     0.63     -0.03          0.60   \n67   2.274819e+09  227.48    0.93     0.11      1.01          1.12   \n96   1.235968e+09  115.58    1.03     0.74      0.11          0.84   \n113  2.580228e+09  139.95    1.20     0.56      3.78          4.36   \n131  8.103266e+08  124.61    1.15     0.55     -0.03          0.52   \n140  2.827904e+09  106.16    0.86     0.00      0.00          0.00   \n150  7.383139e+08   86.33    1.07     0.65     -2.40         -1.77   \n\n     rentpatracum%  vacfisica%  vacfinan%  qtdativosN  \n27            3.20        7.00        0.0          10  \n39            7.61        5.91        9.3          19  \n48            4.73       10.00        4.0          13  \n55            2.04        7.60        0.0          14  \n58            7.50        0.00        0.0          10  \n66            4.67        0.00        0.0          15  \n67           -3.23        7.81        0.0          16  \n96           -2.94        0.90        0.0          72  \n113           7.20        9.20       11.2          14  \n131          10.17        0.00        0.0          15  \n140           0.00       12.40        7.1          12  \n150           5.97        8.00       10.0          12  \n\n[12 rows x 26 columns]\n"
    }
   ],
   "source": [
    "fiis = fiis.loc[fiis['vacfisica%'] <= 15]  # 6th filter vacancy <= 15%\n",
    "print(fiis)"
   ]
  }
 ]
}