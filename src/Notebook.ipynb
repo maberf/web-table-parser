{
 "metadata": {
  "language_info": {
   "codemirror_mode": {
    "name": "ipython",
    "version": 3
   },
   "file_extension": ".py",
   "mimetype": "text/x-python",
   "name": "python",
   "nbconvert_exporter": "python",
   "pygments_lexer": "ipython3",
   "version": "3.8.3-final"
  },
  "orig_nbformat": 2,
  "kernelspec": {
   "name": "python_defaultSpec_1600530969102",
   "display_name": "Python 3.8.3 64-bit ('venv': venv)"
  }
 },
 "nbformat": 4,
 "nbformat_minor": 2,
 "cells": [
  {
   "cell_type": "code",
   "execution_count": 113,
   "metadata": {
    "tags": []
   },
   "outputs": [],
   "source": [
    "from webtableparser import WebTableParser\n",
    "import pandas as pd\n",
    "# import numpy as np\n",
    "# import re\n",
    "\n",
    "site = WebTableParser()\n",
    "site.create('https://www.fundsexplorer.com.br/ranking', 'table table-hover')\n",
    "table = site.capture()\n",
    "df = site.parse(table)\n"
   ]
  },
  {
   "cell_type": "code",
   "execution_count": 114,
   "metadata": {},
   "outputs": [],
   "source": [
    "# Dataframe manipulation should be done according with the table\n",
    "df.columns = ['codigo', 'setor', 'precoatualR$', 'liqdiariaNeg', 'dividR$', 'divyield%', 'dy3macum%', 'dy6macum%', 'dy12macum%', 'dy3mmedia%', 'dy6mmedia%', 'dy12mmedia%', 'dyano%',  'varpreco%', 'rentper%', 'rentacum%', 'patrliqR$', 'vpaR$', 'p/vpaN', 'dypatr%', 'varpatr%', 'rentpatrper%', 'rentpatracum%', 'vacfisica%', 'vacfinan%', 'qtdativosN']\n",
    "df = df.applymap(lambda x: str(x).replace('R$', ''))\n",
    "df = df.applymap(lambda x: str(x).replace('%', ''))\n",
    "df['precoatualR$'] = df['precoatualR$'].apply(lambda x: str(x).replace('.', ''))\n",
    "df['patrliqR$'] = df['patrliqR$'].apply(lambda x: str(x).replace('.', ''))\n",
    "df['vpaR$'] = df['vpaR$'].apply(lambda x: str(x).replace('.', ''))\n",
    "df = df.applymap(lambda x: str(x).replace(',', '.'))\n",
    "df['setor'] = df['setor'].apply(lambda x: str(x).replace('Ã', 'i'))\n",
    "# df['setor'] = df['setor'].apply(lambda x: re.sub(r'Ã ', 'i', x)) #alternative using regex (import re needed)"
   ]
  },
  {
   "cell_type": "code",
   "execution_count": 115,
   "metadata": {},
   "outputs": [],
   "source": [
    "df['codigo'] = df['codigo'].astype('string')\n",
    "df['setor'] = df['setor'].astype('string')\n",
    "df['precoatualR$'] = pd.to_numeric(df['precoatualR$'], errors='coerce')\n",
    "df['liqdiariaNeg'] = pd.to_numeric(df['liqdiariaNeg'], errors='coerce')\n",
    "df['dividR$'] = pd.to_numeric(df['dividR$'], errors='coerce')\n",
    "df['divyield%'] = pd.to_numeric(df['divyield%'], errors='coerce')\n",
    "df['dy3macum%'] = pd.to_numeric(df['dy3macum%'], errors='coerce')\n",
    "df['dy6macum%'] = pd.to_numeric(df['dy6macum%'], errors='coerce')\n",
    "df['dy12macum%'] = pd.to_numeric(df['dy12macum%'], errors='coerce')\n",
    "df['dy3mmedia%'] = pd.to_numeric(df['dy3mmedia%'], errors='coerce')\n",
    "df['dy6mmedia%'] = pd.to_numeric(df['dy6mmedia%'], errors='coerce')\n",
    "df['dy12mmedia%'] = pd.to_numeric(df['dy12mmedia%'], errors='coerce')\n",
    "df['dyano%'] = pd.to_numeric(df['dyano%'], errors='coerce')\n",
    "df['varpreco%'] = pd.to_numeric(df['varpreco%'], errors='coerce')\n",
    "df['rentper%'] = pd.to_numeric(df['rentper%'], errors='coerce')\n",
    "df['rentacum%'] = pd.to_numeric(df['rentacum%'], errors='coerce')\n",
    "df['patrliqR$'] = pd.to_numeric(df['patrliqR$'], errors='coerce')\n",
    "df['vpaR$'] = pd.to_numeric(df['vpaR$'], errors='coerce')\n",
    "df['p/vpaN'] = pd.to_numeric(df['p/vpaN'], errors='coerce')\n",
    "df['dypatr%'] = pd.to_numeric(df['dypatr%'], errors='coerce')\n",
    "df['varpatr%'] = pd.to_numeric(df['varpatr%'], errors='coerce')\n",
    "df['rentpatrper%'] = pd.to_numeric(df['rentpatrper%'], errors='coerce')\n",
    "df['rentpatracum%'] = pd.to_numeric(df['rentpatracum%'], errors='coerce')\n",
    "df['vacfisica%'] = pd.to_numeric(df['vacfisica%'], errors='coerce')\n",
    "df['vacfinan%'] = pd.to_numeric(df['vacfinan%'], errors='coerce')\n",
    "df['qtdativosN'] = pd.to_numeric(df['qtdativosN'], errors='coerce')\n",
    "df = df.fillna(0)  # all NaNs filled with zero\n",
    "# df['liqdiariaNeg'] = df['liqdiariaNeg'].fillna(0)  # column by column if needed\n",
    "# df['liqdiariaNeg'] = df['liqdiariaNeg'].replace(np.nan, 0, regex=True)  # column by column with regex\n",
    "df['liqdiariaNeg'] = df['liqdiariaNeg'].astype('int64')\n",
    "df['qtdativosN'] = df['qtdativosN'].astype('int64')"
   ]
  },
  {
   "cell_type": "code",
   "execution_count": 116,
   "metadata": {
    "tags": []
   },
   "outputs": [
    {
     "output_type": "stream",
     "name": "stdout",
     "text": "codigo                 setor  precoatualR$  liqdiariaNeg  dividR$  \\\n0    FIVN11             Shoppings          4.44           218     0.00   \n1    BZLI11  Ti­tulos e Val. Mob.         15.29         48432     0.00   \n2    XTED11    Lajes Corporativas          7.30           572     0.00   \n3    ALMI11    Lajes Corporativas       1180.00             9     0.00   \n4    DOMC11    Lajes Corporativas        460.00           623     0.00   \n..      ...                   ...           ...           ...      ...   \n177  FCFL11                Outros        112.60          2113     0.57   \n178  XPIN11                Outros        114.76         32008     0.62   \n179  XPML11             Shoppings        109.50         28794     0.18   \n180  FLRP11             Shoppings       1398.97            48     1.74   \n181  ALZR11            Logi­stica        138.51          9575     0.57   \n\n     divyield%  dy3macum%  dy6macum%  dy12macum%  dy3mmedia%  ...  \\\n0         0.00       0.00       0.00        0.00        0.00  ...   \n1         0.00       0.00       0.00        0.00        0.00  ...   \n2         0.00       0.00       0.00        0.00        0.00  ...   \n3         0.00       0.00       0.00        0.00        0.00  ...   \n4         0.00       0.00       0.00        0.00        0.00  ...   \n..         ...        ...        ...         ...         ...  ...   \n177       0.50       1.58       3.01        5.71        0.53  ...   \n178       0.54       1.59       3.17        6.48        0.53  ...   \n179       0.16       0.60       0.86        3.01        0.20  ...   \n180       0.13       1.35       2.81        5.37        0.45  ...   \n181       0.41       1.37       2.90        5.80        0.46  ...   \n\n        patrliqR$    vpaR$  p/vpaN  dypatr%  varpatr%  rentpatrper%  \\\n0    7.155759e+07     7.60    0.58     0.00      0.00          0.00   \n1    4.282173e+08    11.86    1.29     0.00      0.00          0.00   \n2    2.611909e+07    14.57    0.50     0.00      0.00          0.00   \n3    2.206980e+08  1985.10    0.59     0.00      0.00          0.00   \n4    2.441484e+08   999.05    0.46     0.00      0.00          0.00   \n..            ...      ...     ...      ...       ...           ...   \n177  3.677506e+08   105.86    1.06     0.53     -0.14          0.39   \n178  7.307838e+08   110.95    1.03     0.56      1.52          2.09   \n179  2.027557e+09   111.36    0.98     0.00      0.00          0.00   \n180  1.035847e+08  1587.94    0.88     0.11     -1.57         -1.46   \n181  4.593359e+08   102.54    1.35     0.56      1.79          2.35   \n\n     rentpatracum%  vacfisica%  vacfinan%  qtdativosN  \n0             0.00       56.00        0.0           1  \n1             0.00        0.00        0.0           0  \n2             0.00      100.00      100.0           1  \n3             0.00       71.19        0.0           1  \n4             0.00       23.44        0.0           1  \n..             ...         ...        ...         ...  \n177           4.06        0.00        0.0           1  \n178           2.18        8.70        0.0           5  \n179           0.00        4.20        0.0          13  \n180           1.12        1.89        0.0           1  \n181          13.77        0.00        0.0           7  \n\n[182 rows x 26 columns]\n<class 'pandas.core.frame.DataFrame'>\nRangeIndex: 182 entries, 0 to 181\nData columns (total 26 columns):\n #   Column         Non-Null Count  Dtype  \n---  ------         --------------  -----  \n 0   codigo         182 non-null    string \n 1   setor          182 non-null    string \n 2   precoatualR$   182 non-null    float64\n 3   liqdiariaNeg   182 non-null    int64  \n 4   dividR$        182 non-null    float64\n 5   divyield%      182 non-null    float64\n 6   dy3macum%      182 non-null    float64\n 7   dy6macum%      182 non-null    float64\n 8   dy12macum%     182 non-null    float64\n 9   dy3mmedia%     182 non-null    float64\n 10  dy6mmedia%     182 non-null    float64\n 11  dy12mmedia%    182 non-null    float64\n 12  dyano%         182 non-null    float64\n 13  varpreco%      182 non-null    float64\n 14  rentper%       182 non-null    float64\n 15  rentacum%      182 non-null    float64\n 16  patrliqR$      182 non-null    float64\n 17  vpaR$          182 non-null    float64\n 18  p/vpaN         182 non-null    float64\n 19  dypatr%        182 non-null    float64\n 20  varpatr%       182 non-null    float64\n 21  rentpatrper%   182 non-null    float64\n 22  rentpatracum%  182 non-null    float64\n 23  vacfisica%     182 non-null    float64\n 24  vacfinan%      182 non-null    float64\n 25  qtdativosN     182 non-null    int64  \ndtypes: float64(22), int64(2), string(2)\nmemory usage: 37.1 KB\nNone\n"
    }
   ],
   "source": [
    "print(df)\n",
    "print(df.info())"
   ]
  }
 ]
}