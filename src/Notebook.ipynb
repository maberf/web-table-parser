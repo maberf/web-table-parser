{
 "metadata": {
  "language_info": {
   "codemirror_mode": {
    "name": "ipython",
    "version": 3
   },
   "file_extension": ".py",
   "mimetype": "text/x-python",
   "name": "python",
   "nbconvert_exporter": "python",
   "pygments_lexer": "ipython3",
   "version": "3.8.3-final"
  },
  "orig_nbformat": 2,
  "kernelspec": {
   "name": "Python 3.8.3 64-bit ('venv': venv)",
   "display_name": "Python 3.8.3 64-bit ('venv': venv)",
   "metadata": {
    "interpreter": {
     "hash": "5136b7cfd7b55cc6a35dd48815ea136c6df8ce371f16006def54305c989af131"
    }
   }
  }
 },
 "nbformat": 4,
 "nbformat_minor": 2,
 "cells": [
  {
   "cell_type": "code",
   "execution_count": 89,
   "metadata": {
    "tags": []
   },
   "outputs": [],
   "source": [
    "from webtableparser import WebTableParser\n",
    "import pandas as pd\n",
    "# import numpy as np\n",
    "# import re\n",
    "\n",
    "site = WebTableParser()\n",
    "site.create('https://www.fundsexplorer.com.br/ranking', 'table table-hover')\n",
    "table = site.capture()\n",
    "df = site.parse(table)\n"
   ]
  },
  {
   "cell_type": "code",
   "execution_count": 90,
   "metadata": {},
   "outputs": [],
   "source": [
    "# Dataframe manipulation should be done according with the table\n",
    "df.columns = ['codigo', 'setor', 'precoatualR$', 'liqdiariaNeg', 'dividR$', 'divyield%', 'dy3macum%', 'dy6macum%', 'dy12macum%', 'dy3mmedia%', 'dy6mmedia%', 'dy12mmedia%', 'dyano%',  'varpreco%', 'rentper%', 'rentacum%', 'patrliqR$', 'vpaR$', 'p/vpaN', 'dypatr%', 'varpatr%', 'rentpatrper%', 'rentpatracum%', 'vacfisica%', 'vacfinan%', 'qtdativosN']\n",
    "df = df.applymap(lambda x: str(x).replace('R$', ''))\n",
    "df = df.applymap(lambda x: str(x).replace('%', ''))\n",
    "df['precoatualR$'] = df['precoatualR$'].apply(lambda x: str(x).replace('.', ''))\n",
    "df['patrliqR$'] = df['patrliqR$'].apply(lambda x: str(x).replace('.', ''))\n",
    "df['vpaR$'] = df['vpaR$'].apply(lambda x: str(x).replace('.', ''))\n",
    "df = df.applymap(lambda x: str(x).replace(',', '.'))\n",
    "df['setor'] = df['setor'].apply(lambda x: str(x).replace('Ã', 'i'))\n",
    "# df['setor'] = df['setor'].apply(lambda x: re.sub(r'Ã ', 'i', x)) #alternative using regex (import re needed)"
   ]
  },
  {
   "cell_type": "code",
   "execution_count": 91,
   "metadata": {
    "tags": []
   },
   "outputs": [],
   "source": [
    "df['codigo'] = df['codigo'].astype('string')\n",
    "df['setor'] = df['setor'].astype('string')\n",
    "df['precoatualR$'] = pd.to_numeric(df['precoatualR$'], errors='coerce')\n",
    "df['liqdiariaNeg'] = pd.to_numeric(df['liqdiariaNeg'], errors='coerce')\n",
    "df['dividR$'] = pd.to_numeric(df['dividR$'], errors='coerce')\n",
    "df['divyield%'] = pd.to_numeric(df['divyield%'], errors='coerce')\n",
    "df['dy3macum%'] = pd.to_numeric(df['dy3macum%'], errors='coerce')\n",
    "df['dy6macum%'] = pd.to_numeric(df['dy6macum%'], errors='coerce')\n",
    "df['dy12macum%'] = pd.to_numeric(df['dy12macum%'], errors='coerce')\n",
    "df['dy3mmedia%'] = pd.to_numeric(df['dy3mmedia%'], errors='coerce')\n",
    "df['dy6mmedia%'] = pd.to_numeric(df['dy6mmedia%'], errors='coerce')\n",
    "df['dy12mmedia%'] = pd.to_numeric(df['dy12mmedia%'], errors='coerce')\n",
    "df['dyano%'] = pd.to_numeric(df['dyano%'], errors='coerce')\n",
    "df['varpreco%'] = pd.to_numeric(df['varpreco%'], errors='coerce')\n",
    "df['rentper%'] = pd.to_numeric(df['rentper%'], errors='coerce')\n",
    "df['rentacum%'] = pd.to_numeric(df['rentacum%'], errors='coerce')\n",
    "df['patrliqR$'] = pd.to_numeric(df['patrliqR$'], errors='coerce')\n",
    "df['vpaR$'] = pd.to_numeric(df['vpaR$'], errors='coerce')\n",
    "df['p/vpaN'] = pd.to_numeric(df['p/vpaN'], errors='coerce')\n",
    "df['dypatr%'] = pd.to_numeric(df['dypatr%'], errors='coerce')\n",
    "df['varpatr%'] = pd.to_numeric(df['varpatr%'], errors='coerce')\n",
    "df['rentpatrper%'] = pd.to_numeric(df['rentpatrper%'], errors='coerce')\n",
    "df['rentpatracum%'] = pd.to_numeric(df['rentpatracum%'], errors='coerce')\n",
    "df['vacfisica%'] = pd.to_numeric(df['vacfisica%'], errors='coerce')\n",
    "df['vacfinan%'] = pd.to_numeric(df['vacfinan%'], errors='coerce')\n",
    "df['qtdativosN'] = pd.to_numeric(df['qtdativosN'], errors='coerce')\n",
    "df = df.fillna(0)  # all NaNs filled with zero\n",
    "# df['liqdiariaNeg'] = df['liqdiariaNeg'].fillna(0)  # column by column if needed\n",
    "# df['liqdiariaNeg'] = df['liqdiariaNeg'].replace(np.nan, 0, regex=True)  # column by column with regex\n",
    "df['liqdiariaNeg'] = df['liqdiariaNeg'].astype('int64')\n",
    "df['qtdativosN'] = df['qtdativosN'].astype('int64')"
   ]
  },
  {
   "cell_type": "code",
   "execution_count": 92,
   "metadata": {
    "tags": []
   },
   "outputs": [],
   "source": [
    "# Filters in real state funds (rsf)\n",
    "rsf = df.loc[df['dy12macum%'] >= 4.00]  # 1st filter DY > 4%"
   ]
  },
  {
   "cell_type": "code",
   "execution_count": 93,
   "metadata": {
    "tags": []
   },
   "outputs": [],
   "source": [
    "rsf = rsf.loc[rsf['patrliqR$'] >= 500000000.00]  # 2nd filter assets > BRL 500 MM"
   ]
  },
  {
   "cell_type": "code",
   "execution_count": 94,
   "metadata": {
    "tags": []
   },
   "outputs": [],
   "source": [
    "rsf = rsf.loc[rsf['liqdiariaNeg'] >= 1000]  # 3rd filter tradings >= 1000/day"
   ]
  },
  {
   "cell_type": "code",
   "execution_count": 95,
   "metadata": {
    "tags": []
   },
   "outputs": [],
   "source": [
    "rsf = rsf.loc[rsf['p/vpaN'] <= 1.25]  # 4th filter P/VPA <= 1.25"
   ]
  },
  {
   "cell_type": "code",
   "execution_count": 96,
   "metadata": {
    "tags": []
   },
   "outputs": [],
   "source": [
    "# Spliting in brick and paper funds\n",
    "rsf_brick = rsf.loc[rsf['qtdativosN'] >= 10]  # 5th filter >= 10 assets\n",
    "rsf_paper = rsf.loc[rsf['qtdativosN'] == 0]  # 5 th filter = 0 assets"
   ]
  },
  {
   "cell_type": "code",
   "execution_count": 97,
   "metadata": {
    "tags": []
   },
   "outputs": [],
   "source": [
    "rsf_brick = rsf_brick.loc[rsf_brick['vacfisica%'] <= 15]  # 6th filter vacancy <= 15%"
   ]
  },
  {
   "cell_type": "code",
   "execution_count": 98,
   "metadata": {},
   "outputs": [
    {
     "output_type": "display_data",
     "data": {
      "application/vnd.plotly.v1+json": {
       "config": {
        "plotlyServerURL": "https://plot.ly"
       },
       "data": [
        {
         "name": "DY% 12m Acum",
         "type": "bar",
         "x": [
          [
           "Lajes Corporativas",
           "Hi­brido",
           "Logi­stica",
           "Shoppings",
           "Logi­stica",
           "Hi­brido",
           "Shoppings",
           "Outros",
           "Logi­stica",
           "Logi­stica",
           "Hi­brido",
           "Outros"
          ],
          [
           "RCRB11",
           "KNRI11",
           "XPLG11",
           "VISC11",
           "VILG11",
           "HGRU11",
           "HGBS11",
           "RBVA11",
           "HGLG11",
           "GGRC11",
           "BRCR11",
           "RBRP11"
          ]
         ],
         "y": [
          5.21,
          4.94,
          5.9,
          4.5,
          6.03,
          6.68,
          4.14,
          7.97,
          5.29,
          6.26,
          6.14,
          5.56
         ]
        },
        {
         "name": "P/VPA",
         "type": "bar",
         "x": [
          [
           "Lajes Corporativas",
           "Hi­brido",
           "Logi­stica",
           "Shoppings",
           "Logi­stica",
           "Hi­brido",
           "Shoppings",
           "Outros",
           "Logi­stica",
           "Logi­stica",
           "Hi­brido",
           "Outros"
          ],
          [
           "RCRB11",
           "KNRI11",
           "XPLG11",
           "VISC11",
           "VILG11",
           "HGRU11",
           "HGBS11",
           "RBVA11",
           "HGLG11",
           "GGRC11",
           "BRCR11",
           "RBRP11"
          ]
         ],
         "y": [
          0.87,
          1.06,
          1.18,
          0.92,
          1.15,
          1.24,
          0.93,
          1.03,
          1.2,
          1.15,
          0.86,
          1.08
         ]
        },
        {
         "marker": {
          "color": "rgb(57, 147, 123)"
         },
         "name": "%Vacância Física",
         "type": "bar",
         "x": [
          [
           "Lajes Corporativas",
           "Hi­brido",
           "Logi­stica",
           "Shoppings",
           "Logi­stica",
           "Hi­brido",
           "Shoppings",
           "Outros",
           "Logi­stica",
           "Logi­stica",
           "Hi­brido",
           "Outros"
          ],
          [
           "RCRB11",
           "KNRI11",
           "XPLG11",
           "VISC11",
           "VILG11",
           "HGRU11",
           "HGBS11",
           "RBVA11",
           "HGLG11",
           "GGRC11",
           "BRCR11",
           "RBRP11"
          ]
         ],
         "y": [
          0,
          5.91,
          10,
          7.6,
          0,
          0,
          7.81,
          0.9,
          9.2,
          0,
          12.4,
          9
         ]
        }
       ],
       "layout": {
        "template": {
         "data": {
          "bar": [
           {
            "error_x": {
             "color": "#2a3f5f"
            },
            "error_y": {
             "color": "#2a3f5f"
            },
            "marker": {
             "line": {
              "color": "#E5ECF6",
              "width": 0.5
             }
            },
            "type": "bar"
           }
          ],
          "barpolar": [
           {
            "marker": {
             "line": {
              "color": "#E5ECF6",
              "width": 0.5
             }
            },
            "type": "barpolar"
           }
          ],
          "carpet": [
           {
            "aaxis": {
             "endlinecolor": "#2a3f5f",
             "gridcolor": "white",
             "linecolor": "white",
             "minorgridcolor": "white",
             "startlinecolor": "#2a3f5f"
            },
            "baxis": {
             "endlinecolor": "#2a3f5f",
             "gridcolor": "white",
             "linecolor": "white",
             "minorgridcolor": "white",
             "startlinecolor": "#2a3f5f"
            },
            "type": "carpet"
           }
          ],
          "choropleth": [
           {
            "colorbar": {
             "outlinewidth": 0,
             "ticks": ""
            },
            "type": "choropleth"
           }
          ],
          "contour": [
           {
            "colorbar": {
             "outlinewidth": 0,
             "ticks": ""
            },
            "colorscale": [
             [
              0,
              "#0d0887"
             ],
             [
              0.1111111111111111,
              "#46039f"
             ],
             [
              0.2222222222222222,
              "#7201a8"
             ],
             [
              0.3333333333333333,
              "#9c179e"
             ],
             [
              0.4444444444444444,
              "#bd3786"
             ],
             [
              0.5555555555555556,
              "#d8576b"
             ],
             [
              0.6666666666666666,
              "#ed7953"
             ],
             [
              0.7777777777777778,
              "#fb9f3a"
             ],
             [
              0.8888888888888888,
              "#fdca26"
             ],
             [
              1,
              "#f0f921"
             ]
            ],
            "type": "contour"
           }
          ],
          "contourcarpet": [
           {
            "colorbar": {
             "outlinewidth": 0,
             "ticks": ""
            },
            "type": "contourcarpet"
           }
          ],
          "heatmap": [
           {
            "colorbar": {
             "outlinewidth": 0,
             "ticks": ""
            },
            "colorscale": [
             [
              0,
              "#0d0887"
             ],
             [
              0.1111111111111111,
              "#46039f"
             ],
             [
              0.2222222222222222,
              "#7201a8"
             ],
             [
              0.3333333333333333,
              "#9c179e"
             ],
             [
              0.4444444444444444,
              "#bd3786"
             ],
             [
              0.5555555555555556,
              "#d8576b"
             ],
             [
              0.6666666666666666,
              "#ed7953"
             ],
             [
              0.7777777777777778,
              "#fb9f3a"
             ],
             [
              0.8888888888888888,
              "#fdca26"
             ],
             [
              1,
              "#f0f921"
             ]
            ],
            "type": "heatmap"
           }
          ],
          "heatmapgl": [
           {
            "colorbar": {
             "outlinewidth": 0,
             "ticks": ""
            },
            "colorscale": [
             [
              0,
              "#0d0887"
             ],
             [
              0.1111111111111111,
              "#46039f"
             ],
             [
              0.2222222222222222,
              "#7201a8"
             ],
             [
              0.3333333333333333,
              "#9c179e"
             ],
             [
              0.4444444444444444,
              "#bd3786"
             ],
             [
              0.5555555555555556,
              "#d8576b"
             ],
             [
              0.6666666666666666,
              "#ed7953"
             ],
             [
              0.7777777777777778,
              "#fb9f3a"
             ],
             [
              0.8888888888888888,
              "#fdca26"
             ],
             [
              1,
              "#f0f921"
             ]
            ],
            "type": "heatmapgl"
           }
          ],
          "histogram": [
           {
            "marker": {
             "colorbar": {
              "outlinewidth": 0,
              "ticks": ""
             }
            },
            "type": "histogram"
           }
          ],
          "histogram2d": [
           {
            "colorbar": {
             "outlinewidth": 0,
             "ticks": ""
            },
            "colorscale": [
             [
              0,
              "#0d0887"
             ],
             [
              0.1111111111111111,
              "#46039f"
             ],
             [
              0.2222222222222222,
              "#7201a8"
             ],
             [
              0.3333333333333333,
              "#9c179e"
             ],
             [
              0.4444444444444444,
              "#bd3786"
             ],
             [
              0.5555555555555556,
              "#d8576b"
             ],
             [
              0.6666666666666666,
              "#ed7953"
             ],
             [
              0.7777777777777778,
              "#fb9f3a"
             ],
             [
              0.8888888888888888,
              "#fdca26"
             ],
             [
              1,
              "#f0f921"
             ]
            ],
            "type": "histogram2d"
           }
          ],
          "histogram2dcontour": [
           {
            "colorbar": {
             "outlinewidth": 0,
             "ticks": ""
            },
            "colorscale": [
             [
              0,
              "#0d0887"
             ],
             [
              0.1111111111111111,
              "#46039f"
             ],
             [
              0.2222222222222222,
              "#7201a8"
             ],
             [
              0.3333333333333333,
              "#9c179e"
             ],
             [
              0.4444444444444444,
              "#bd3786"
             ],
             [
              0.5555555555555556,
              "#d8576b"
             ],
             [
              0.6666666666666666,
              "#ed7953"
             ],
             [
              0.7777777777777778,
              "#fb9f3a"
             ],
             [
              0.8888888888888888,
              "#fdca26"
             ],
             [
              1,
              "#f0f921"
             ]
            ],
            "type": "histogram2dcontour"
           }
          ],
          "mesh3d": [
           {
            "colorbar": {
             "outlinewidth": 0,
             "ticks": ""
            },
            "type": "mesh3d"
           }
          ],
          "parcoords": [
           {
            "line": {
             "colorbar": {
              "outlinewidth": 0,
              "ticks": ""
             }
            },
            "type": "parcoords"
           }
          ],
          "pie": [
           {
            "automargin": true,
            "type": "pie"
           }
          ],
          "scatter": [
           {
            "marker": {
             "colorbar": {
              "outlinewidth": 0,
              "ticks": ""
             }
            },
            "type": "scatter"
           }
          ],
          "scatter3d": [
           {
            "line": {
             "colorbar": {
              "outlinewidth": 0,
              "ticks": ""
             }
            },
            "marker": {
             "colorbar": {
              "outlinewidth": 0,
              "ticks": ""
             }
            },
            "type": "scatter3d"
           }
          ],
          "scattercarpet": [
           {
            "marker": {
             "colorbar": {
              "outlinewidth": 0,
              "ticks": ""
             }
            },
            "type": "scattercarpet"
           }
          ],
          "scattergeo": [
           {
            "marker": {
             "colorbar": {
              "outlinewidth": 0,
              "ticks": ""
             }
            },
            "type": "scattergeo"
           }
          ],
          "scattergl": [
           {
            "marker": {
             "colorbar": {
              "outlinewidth": 0,
              "ticks": ""
             }
            },
            "type": "scattergl"
           }
          ],
          "scattermapbox": [
           {
            "marker": {
             "colorbar": {
              "outlinewidth": 0,
              "ticks": ""
             }
            },
            "type": "scattermapbox"
           }
          ],
          "scatterpolar": [
           {
            "marker": {
             "colorbar": {
              "outlinewidth": 0,
              "ticks": ""
             }
            },
            "type": "scatterpolar"
           }
          ],
          "scatterpolargl": [
           {
            "marker": {
             "colorbar": {
              "outlinewidth": 0,
              "ticks": ""
             }
            },
            "type": "scatterpolargl"
           }
          ],
          "scatterternary": [
           {
            "marker": {
             "colorbar": {
              "outlinewidth": 0,
              "ticks": ""
             }
            },
            "type": "scatterternary"
           }
          ],
          "surface": [
           {
            "colorbar": {
             "outlinewidth": 0,
             "ticks": ""
            },
            "colorscale": [
             [
              0,
              "#0d0887"
             ],
             [
              0.1111111111111111,
              "#46039f"
             ],
             [
              0.2222222222222222,
              "#7201a8"
             ],
             [
              0.3333333333333333,
              "#9c179e"
             ],
             [
              0.4444444444444444,
              "#bd3786"
             ],
             [
              0.5555555555555556,
              "#d8576b"
             ],
             [
              0.6666666666666666,
              "#ed7953"
             ],
             [
              0.7777777777777778,
              "#fb9f3a"
             ],
             [
              0.8888888888888888,
              "#fdca26"
             ],
             [
              1,
              "#f0f921"
             ]
            ],
            "type": "surface"
           }
          ],
          "table": [
           {
            "cells": {
             "fill": {
              "color": "#EBF0F8"
             },
             "line": {
              "color": "white"
             }
            },
            "header": {
             "fill": {
              "color": "#C8D4E3"
             },
             "line": {
              "color": "white"
             }
            },
            "type": "table"
           }
          ]
         },
         "layout": {
          "annotationdefaults": {
           "arrowcolor": "#2a3f5f",
           "arrowhead": 0,
           "arrowwidth": 1
          },
          "coloraxis": {
           "colorbar": {
            "outlinewidth": 0,
            "ticks": ""
           }
          },
          "colorscale": {
           "diverging": [
            [
             0,
             "#8e0152"
            ],
            [
             0.1,
             "#c51b7d"
            ],
            [
             0.2,
             "#de77ae"
            ],
            [
             0.3,
             "#f1b6da"
            ],
            [
             0.4,
             "#fde0ef"
            ],
            [
             0.5,
             "#f7f7f7"
            ],
            [
             0.6,
             "#e6f5d0"
            ],
            [
             0.7,
             "#b8e186"
            ],
            [
             0.8,
             "#7fbc41"
            ],
            [
             0.9,
             "#4d9221"
            ],
            [
             1,
             "#276419"
            ]
           ],
           "sequential": [
            [
             0,
             "#0d0887"
            ],
            [
             0.1111111111111111,
             "#46039f"
            ],
            [
             0.2222222222222222,
             "#7201a8"
            ],
            [
             0.3333333333333333,
             "#9c179e"
            ],
            [
             0.4444444444444444,
             "#bd3786"
            ],
            [
             0.5555555555555556,
             "#d8576b"
            ],
            [
             0.6666666666666666,
             "#ed7953"
            ],
            [
             0.7777777777777778,
             "#fb9f3a"
            ],
            [
             0.8888888888888888,
             "#fdca26"
            ],
            [
             1,
             "#f0f921"
            ]
           ],
           "sequentialminus": [
            [
             0,
             "#0d0887"
            ],
            [
             0.1111111111111111,
             "#46039f"
            ],
            [
             0.2222222222222222,
             "#7201a8"
            ],
            [
             0.3333333333333333,
             "#9c179e"
            ],
            [
             0.4444444444444444,
             "#bd3786"
            ],
            [
             0.5555555555555556,
             "#d8576b"
            ],
            [
             0.6666666666666666,
             "#ed7953"
            ],
            [
             0.7777777777777778,
             "#fb9f3a"
            ],
            [
             0.8888888888888888,
             "#fdca26"
            ],
            [
             1,
             "#f0f921"
            ]
           ]
          },
          "colorway": [
           "#636efa",
           "#EF553B",
           "#00cc96",
           "#ab63fa",
           "#FFA15A",
           "#19d3f3",
           "#FF6692",
           "#B6E880",
           "#FF97FF",
           "#FECB52"
          ],
          "font": {
           "color": "#2a3f5f"
          },
          "geo": {
           "bgcolor": "white",
           "lakecolor": "white",
           "landcolor": "#E5ECF6",
           "showlakes": true,
           "showland": true,
           "subunitcolor": "white"
          },
          "hoverlabel": {
           "align": "left"
          },
          "hovermode": "closest",
          "mapbox": {
           "style": "light"
          },
          "paper_bgcolor": "white",
          "plot_bgcolor": "#E5ECF6",
          "polar": {
           "angularaxis": {
            "gridcolor": "white",
            "linecolor": "white",
            "ticks": ""
           },
           "bgcolor": "#E5ECF6",
           "radialaxis": {
            "gridcolor": "white",
            "linecolor": "white",
            "ticks": ""
           }
          },
          "scene": {
           "xaxis": {
            "backgroundcolor": "#E5ECF6",
            "gridcolor": "white",
            "gridwidth": 2,
            "linecolor": "white",
            "showbackground": true,
            "ticks": "",
            "zerolinecolor": "white"
           },
           "yaxis": {
            "backgroundcolor": "#E5ECF6",
            "gridcolor": "white",
            "gridwidth": 2,
            "linecolor": "white",
            "showbackground": true,
            "ticks": "",
            "zerolinecolor": "white"
           },
           "zaxis": {
            "backgroundcolor": "#E5ECF6",
            "gridcolor": "white",
            "gridwidth": 2,
            "linecolor": "white",
            "showbackground": true,
            "ticks": "",
            "zerolinecolor": "white"
           }
          },
          "shapedefaults": {
           "line": {
            "color": "#2a3f5f"
           }
          },
          "ternary": {
           "aaxis": {
            "gridcolor": "white",
            "linecolor": "white",
            "ticks": ""
           },
           "baxis": {
            "gridcolor": "white",
            "linecolor": "white",
            "ticks": ""
           },
           "bgcolor": "#E5ECF6",
           "caxis": {
            "gridcolor": "white",
            "linecolor": "white",
            "ticks": ""
           }
          },
          "title": {
           "x": 0.05
          },
          "xaxis": {
           "automargin": true,
           "gridcolor": "white",
           "linecolor": "white",
           "ticks": "",
           "title": {
            "standoff": 15
           },
           "zerolinecolor": "white",
           "zerolinewidth": 2
          },
          "yaxis": {
           "automargin": true,
           "gridcolor": "white",
           "linecolor": "white",
           "ticks": "",
           "title": {
            "standoff": 15
           },
           "zerolinecolor": "white",
           "zerolinewidth": 2
          }
         }
        },
        "title": {
         "text": "ANÁLISE FIIs TIJOLOS | DY Ano >= 4%, Patr. > 500M, Neg/dia > 1000, P/VPA =< 1.25, Ativos >= 10, Vacância Física < 15%"
        }
       }
      }
     },
     "metadata": {}
    },
    {
     "output_type": "execute_result",
     "data": {
      "text/plain": "'temp-plot.html'"
     },
     "metadata": {},
     "execution_count": 98
    }
   ],
   "source": [
    "from matplotlib import pyplot as plt\n",
    "import plotly.offline as py\n",
    "import plotly.graph_objs as go\n",
    "#pd.options.plotting.backend=\"plotly\"\n",
    "#py.init_notebook_mode(connected=True)\n",
    "x1 = [rsf_brick['setor'],rsf_brick['codigo']]\n",
    "trace01 = go.Bar(x=x1, y=rsf_brick['dy12macum%'], name='DY% 12m Acum')\n",
    "trace11 = go.Bar(x=x1, y=rsf_brick['p/vpaN'], name='P/VPA')\n",
    "trace21 = go.Bar(x=x1, y=rsf_brick['vacfisica%'], name='%Vacância Física', marker_color='rgb(57, 147, 123)')\n",
    "data1 = [trace01, trace11, trace21]\n",
    "fig1 = go.Figure(data1)\n",
    "fig1.update_layout(title='ANÁLISE FIIs TIJOLOS | DY Ano >= 4%, Patr. > 500M, Neg/dia > 1000, P/VPA =< 1.25, Ativos >= 10, Vacância Física < 15%')\n",
    "fig1.show()\n",
    "py.plot(fig1)"
   ]
  },
  {
   "cell_type": "code",
   "execution_count": 99,
   "metadata": {
    "tags": []
   },
   "outputs": [
    {
     "output_type": "stream",
     "name": "stdout",
     "text": "     codigo                 setor  precoatualR$  liqdiariaNeg  dividR$  \\\n44   KNCR11  Ti­tulos e Val. Mob.         89.50         49818     0.27   \n50   VRTA11  Ti­tulos e Val. Mob.        103.95         19111     0.51   \n86   KNHY11  Ti­tulos e Val. Mob.        108.69          9270     0.65   \n87   KNIP11  Ti­tulos e Val. Mob.        110.80         19334     0.75   \n99   MXRF11              Hi­brido         10.82        550013     0.07   \n102  HFOF11  Ti­tulos e Val. Mob.        104.63         44735     0.50   \n113  HGCR11  Ti­tulos e Val. Mob.        103.25         21603     0.48   \n146  MGFF11  Ti­tulos e Val. Mob.         92.62         25590     0.50   \n148  BCFF11  Ti­tulos e Val. Mob.         90.95         47651     0.45   \n152  RECR11  Ti­tulos e Val. Mob.        101.80         16516     0.90   \n157  RBRR11  Ti­tulos e Val. Mob.        100.89         10603     0.50   \n158  RBRF11  Ti­tulos e Val. Mob.         96.75         30409     0.60   \n160  IRDM11  Ti­tulos e Val. Mob.        119.79         46494     1.05   \n165  CPTS11  Ti­tulos e Val. Mob.         96.05         22971     0.75   \n\n     divyield%  dy3macum%  dy6macum%  dy12macum%  dy3mmedia%  ...  \\\n44        0.30       0.97       2.16        4.92        0.32  ...   \n50        0.49       1.91       3.89        7.31        0.64  ...   \n86        0.60       1.30       2.70        6.41        0.43  ...   \n87        0.67       1.76       3.38        6.90        0.59  ...   \n99        0.66       1.93       4.06        8.85        0.64  ...   \n102       0.44       1.81       4.10        8.30        0.60  ...   \n113       0.46       1.38       3.15        6.35        0.46  ...   \n146       0.52       1.75       3.75        7.57        0.58  ...   \n148       0.49       1.47       2.87        6.13        0.49  ...   \n152       0.86       2.25       4.51        8.71        0.75  ...   \n157       0.50       1.56       3.27        6.61        0.52  ...   \n158       0.61       1.63       3.41        7.09        0.54  ...   \n160       0.88       2.40       4.46        8.98        0.80  ...   \n165       0.78       2.17       4.23        7.93        0.72  ...   \n\n        patrliqR$   vpaR$  p/vpaN  dypatr%  varpatr%  rentpatrper%  \\\n44   3.820768e+09   97.73    0.92     0.28      0.34          0.62   \n50   1.025090e+09  102.51    1.01     0.50     -3.04         -2.55   \n86   1.140648e+09  106.69    1.02     0.61     -1.26         -0.66   \n87   3.631683e+09  106.86    1.04     0.70     -2.04         -1.35   \n99   1.570065e+09   10.17    1.06     0.69     -0.69         -0.01   \n102  1.887491e+09   99.90    1.05     0.50      0.94          1.44   \n113  1.295238e+09  104.69    0.99     0.46     -1.04         -0.58   \n146  7.822320e+08   86.43    1.07     0.57      1.43          2.02   \n148  1.730034e+09   84.13    1.08     0.53      0.47          1.00   \n152  7.056566e+08   97.34    1.05     0.92      0.07          0.99   \n157  7.288703e+08   98.15    1.03     0.51      0.37          0.88   \n158  8.792299e+08   95.67    1.01     0.63     -0.21          0.41   \n160  1.129438e+09   98.21    1.22     1.07      1.14          2.22   \n165  7.928412e+08   93.92    1.02     0.80     -1.10         -0.31   \n\n     rentpatracum%  vacfisica%  vacfinan%  qtdativosN  \n44           -4.08         0.0        0.0           0  \n50            1.93         0.0        0.0           0  \n86            0.35         0.0        0.0           0  \n87           -1.75         0.0        0.0           0  \n99            5.39         0.0        0.0           0  \n102          -3.17         0.0        0.0           0  \n113           2.90         0.0        0.0           0  \n146         -26.64         0.0        0.0           0  \n148         -18.29         0.0        0.0           0  \n152           7.22         0.0        0.0           0  \n157           3.22         0.0        0.0           0  \n158         -19.51         0.0        0.0           0  \n160           0.56         0.0        0.0           0  \n165          -1.06         0.0        0.0           0  \n\n[14 rows x 26 columns]\n"
    }
   ],
   "source": [
    "#rsf_paper = rsf_paper.loc[rsf['setor'] = 'Ti­tulos e Val. Mob.']  # 7 th filter sector = credit rights"
   ]
  },
  {
   "cell_type": "code",
   "execution_count": 101,
   "metadata": {},
   "outputs": [
    {
     "output_type": "display_data",
     "data": {
      "application/vnd.plotly.v1+json": {
       "config": {
        "plotlyServerURL": "https://plot.ly"
       },
       "data": [
        {
         "name": "DY% 12m Acum",
         "type": "bar",
         "x": [
          [
           "Ti­tulos e Val. Mob.",
           "Ti­tulos e Val. Mob.",
           "Ti­tulos e Val. Mob.",
           "Ti­tulos e Val. Mob.",
           "Hi­brido",
           "Ti­tulos e Val. Mob.",
           "Ti­tulos e Val. Mob.",
           "Ti­tulos e Val. Mob.",
           "Ti­tulos e Val. Mob.",
           "Ti­tulos e Val. Mob.",
           "Ti­tulos e Val. Mob.",
           "Ti­tulos e Val. Mob.",
           "Ti­tulos e Val. Mob.",
           "Ti­tulos e Val. Mob."
          ],
          [
           "KNCR11",
           "VRTA11",
           "KNHY11",
           "KNIP11",
           "MXRF11",
           "HFOF11",
           "HGCR11",
           "MGFF11",
           "BCFF11",
           "RECR11",
           "RBRR11",
           "RBRF11",
           "IRDM11",
           "CPTS11"
          ]
         ],
         "y": [
          4.92,
          7.31,
          6.41,
          6.9,
          8.85,
          8.3,
          6.35,
          7.57,
          6.13,
          8.71,
          6.61,
          7.09,
          8.98,
          7.93
         ]
        },
        {
         "name": "P/VPA",
         "type": "bar",
         "x": [
          [
           "Ti­tulos e Val. Mob.",
           "Ti­tulos e Val. Mob.",
           "Ti­tulos e Val. Mob.",
           "Ti­tulos e Val. Mob.",
           "Hi­brido",
           "Ti­tulos e Val. Mob.",
           "Ti­tulos e Val. Mob.",
           "Ti­tulos e Val. Mob.",
           "Ti­tulos e Val. Mob.",
           "Ti­tulos e Val. Mob.",
           "Ti­tulos e Val. Mob.",
           "Ti­tulos e Val. Mob.",
           "Ti­tulos e Val. Mob.",
           "Ti­tulos e Val. Mob."
          ],
          [
           "KNCR11",
           "VRTA11",
           "KNHY11",
           "KNIP11",
           "MXRF11",
           "HFOF11",
           "HGCR11",
           "MGFF11",
           "BCFF11",
           "RECR11",
           "RBRR11",
           "RBRF11",
           "IRDM11",
           "CPTS11"
          ]
         ],
         "y": [
          0.92,
          1.01,
          1.02,
          1.04,
          1.06,
          1.05,
          0.99,
          1.07,
          1.08,
          1.05,
          1.03,
          1.01,
          1.22,
          1.02
         ]
        },
        {
         "marker": {
          "color": "rgb(57, 147, 123)"
         },
         "name": "%Variação Patr.",
         "type": "bar",
         "x": [
          [
           "Ti­tulos e Val. Mob.",
           "Ti­tulos e Val. Mob.",
           "Ti­tulos e Val. Mob.",
           "Ti­tulos e Val. Mob.",
           "Hi­brido",
           "Ti­tulos e Val. Mob.",
           "Ti­tulos e Val. Mob.",
           "Ti­tulos e Val. Mob.",
           "Ti­tulos e Val. Mob.",
           "Ti­tulos e Val. Mob.",
           "Ti­tulos e Val. Mob.",
           "Ti­tulos e Val. Mob.",
           "Ti­tulos e Val. Mob.",
           "Ti­tulos e Val. Mob."
          ],
          [
           "KNCR11",
           "VRTA11",
           "KNHY11",
           "KNIP11",
           "MXRF11",
           "HFOF11",
           "HGCR11",
           "MGFF11",
           "BCFF11",
           "RECR11",
           "RBRR11",
           "RBRF11",
           "IRDM11",
           "CPTS11"
          ]
         ],
         "y": [
          0.34,
          -3.04,
          -1.26,
          -2.04,
          -0.69,
          0.94,
          -1.04,
          1.43,
          0.47,
          0.07,
          0.37,
          -0.21,
          1.14,
          -1.1
         ]
        }
       ],
       "layout": {
        "template": {
         "data": {
          "bar": [
           {
            "error_x": {
             "color": "#2a3f5f"
            },
            "error_y": {
             "color": "#2a3f5f"
            },
            "marker": {
             "line": {
              "color": "#E5ECF6",
              "width": 0.5
             }
            },
            "type": "bar"
           }
          ],
          "barpolar": [
           {
            "marker": {
             "line": {
              "color": "#E5ECF6",
              "width": 0.5
             }
            },
            "type": "barpolar"
           }
          ],
          "carpet": [
           {
            "aaxis": {
             "endlinecolor": "#2a3f5f",
             "gridcolor": "white",
             "linecolor": "white",
             "minorgridcolor": "white",
             "startlinecolor": "#2a3f5f"
            },
            "baxis": {
             "endlinecolor": "#2a3f5f",
             "gridcolor": "white",
             "linecolor": "white",
             "minorgridcolor": "white",
             "startlinecolor": "#2a3f5f"
            },
            "type": "carpet"
           }
          ],
          "choropleth": [
           {
            "colorbar": {
             "outlinewidth": 0,
             "ticks": ""
            },
            "type": "choropleth"
           }
          ],
          "contour": [
           {
            "colorbar": {
             "outlinewidth": 0,
             "ticks": ""
            },
            "colorscale": [
             [
              0,
              "#0d0887"
             ],
             [
              0.1111111111111111,
              "#46039f"
             ],
             [
              0.2222222222222222,
              "#7201a8"
             ],
             [
              0.3333333333333333,
              "#9c179e"
             ],
             [
              0.4444444444444444,
              "#bd3786"
             ],
             [
              0.5555555555555556,
              "#d8576b"
             ],
             [
              0.6666666666666666,
              "#ed7953"
             ],
             [
              0.7777777777777778,
              "#fb9f3a"
             ],
             [
              0.8888888888888888,
              "#fdca26"
             ],
             [
              1,
              "#f0f921"
             ]
            ],
            "type": "contour"
           }
          ],
          "contourcarpet": [
           {
            "colorbar": {
             "outlinewidth": 0,
             "ticks": ""
            },
            "type": "contourcarpet"
           }
          ],
          "heatmap": [
           {
            "colorbar": {
             "outlinewidth": 0,
             "ticks": ""
            },
            "colorscale": [
             [
              0,
              "#0d0887"
             ],
             [
              0.1111111111111111,
              "#46039f"
             ],
             [
              0.2222222222222222,
              "#7201a8"
             ],
             [
              0.3333333333333333,
              "#9c179e"
             ],
             [
              0.4444444444444444,
              "#bd3786"
             ],
             [
              0.5555555555555556,
              "#d8576b"
             ],
             [
              0.6666666666666666,
              "#ed7953"
             ],
             [
              0.7777777777777778,
              "#fb9f3a"
             ],
             [
              0.8888888888888888,
              "#fdca26"
             ],
             [
              1,
              "#f0f921"
             ]
            ],
            "type": "heatmap"
           }
          ],
          "heatmapgl": [
           {
            "colorbar": {
             "outlinewidth": 0,
             "ticks": ""
            },
            "colorscale": [
             [
              0,
              "#0d0887"
             ],
             [
              0.1111111111111111,
              "#46039f"
             ],
             [
              0.2222222222222222,
              "#7201a8"
             ],
             [
              0.3333333333333333,
              "#9c179e"
             ],
             [
              0.4444444444444444,
              "#bd3786"
             ],
             [
              0.5555555555555556,
              "#d8576b"
             ],
             [
              0.6666666666666666,
              "#ed7953"
             ],
             [
              0.7777777777777778,
              "#fb9f3a"
             ],
             [
              0.8888888888888888,
              "#fdca26"
             ],
             [
              1,
              "#f0f921"
             ]
            ],
            "type": "heatmapgl"
           }
          ],
          "histogram": [
           {
            "marker": {
             "colorbar": {
              "outlinewidth": 0,
              "ticks": ""
             }
            },
            "type": "histogram"
           }
          ],
          "histogram2d": [
           {
            "colorbar": {
             "outlinewidth": 0,
             "ticks": ""
            },
            "colorscale": [
             [
              0,
              "#0d0887"
             ],
             [
              0.1111111111111111,
              "#46039f"
             ],
             [
              0.2222222222222222,
              "#7201a8"
             ],
             [
              0.3333333333333333,
              "#9c179e"
             ],
             [
              0.4444444444444444,
              "#bd3786"
             ],
             [
              0.5555555555555556,
              "#d8576b"
             ],
             [
              0.6666666666666666,
              "#ed7953"
             ],
             [
              0.7777777777777778,
              "#fb9f3a"
             ],
             [
              0.8888888888888888,
              "#fdca26"
             ],
             [
              1,
              "#f0f921"
             ]
            ],
            "type": "histogram2d"
           }
          ],
          "histogram2dcontour": [
           {
            "colorbar": {
             "outlinewidth": 0,
             "ticks": ""
            },
            "colorscale": [
             [
              0,
              "#0d0887"
             ],
             [
              0.1111111111111111,
              "#46039f"
             ],
             [
              0.2222222222222222,
              "#7201a8"
             ],
             [
              0.3333333333333333,
              "#9c179e"
             ],
             [
              0.4444444444444444,
              "#bd3786"
             ],
             [
              0.5555555555555556,
              "#d8576b"
             ],
             [
              0.6666666666666666,
              "#ed7953"
             ],
             [
              0.7777777777777778,
              "#fb9f3a"
             ],
             [
              0.8888888888888888,
              "#fdca26"
             ],
             [
              1,
              "#f0f921"
             ]
            ],
            "type": "histogram2dcontour"
           }
          ],
          "mesh3d": [
           {
            "colorbar": {
             "outlinewidth": 0,
             "ticks": ""
            },
            "type": "mesh3d"
           }
          ],
          "parcoords": [
           {
            "line": {
             "colorbar": {
              "outlinewidth": 0,
              "ticks": ""
             }
            },
            "type": "parcoords"
           }
          ],
          "pie": [
           {
            "automargin": true,
            "type": "pie"
           }
          ],
          "scatter": [
           {
            "marker": {
             "colorbar": {
              "outlinewidth": 0,
              "ticks": ""
             }
            },
            "type": "scatter"
           }
          ],
          "scatter3d": [
           {
            "line": {
             "colorbar": {
              "outlinewidth": 0,
              "ticks": ""
             }
            },
            "marker": {
             "colorbar": {
              "outlinewidth": 0,
              "ticks": ""
             }
            },
            "type": "scatter3d"
           }
          ],
          "scattercarpet": [
           {
            "marker": {
             "colorbar": {
              "outlinewidth": 0,
              "ticks": ""
             }
            },
            "type": "scattercarpet"
           }
          ],
          "scattergeo": [
           {
            "marker": {
             "colorbar": {
              "outlinewidth": 0,
              "ticks": ""
             }
            },
            "type": "scattergeo"
           }
          ],
          "scattergl": [
           {
            "marker": {
             "colorbar": {
              "outlinewidth": 0,
              "ticks": ""
             }
            },
            "type": "scattergl"
           }
          ],
          "scattermapbox": [
           {
            "marker": {
             "colorbar": {
              "outlinewidth": 0,
              "ticks": ""
             }
            },
            "type": "scattermapbox"
           }
          ],
          "scatterpolar": [
           {
            "marker": {
             "colorbar": {
              "outlinewidth": 0,
              "ticks": ""
             }
            },
            "type": "scatterpolar"
           }
          ],
          "scatterpolargl": [
           {
            "marker": {
             "colorbar": {
              "outlinewidth": 0,
              "ticks": ""
             }
            },
            "type": "scatterpolargl"
           }
          ],
          "scatterternary": [
           {
            "marker": {
             "colorbar": {
              "outlinewidth": 0,
              "ticks": ""
             }
            },
            "type": "scatterternary"
           }
          ],
          "surface": [
           {
            "colorbar": {
             "outlinewidth": 0,
             "ticks": ""
            },
            "colorscale": [
             [
              0,
              "#0d0887"
             ],
             [
              0.1111111111111111,
              "#46039f"
             ],
             [
              0.2222222222222222,
              "#7201a8"
             ],
             [
              0.3333333333333333,
              "#9c179e"
             ],
             [
              0.4444444444444444,
              "#bd3786"
             ],
             [
              0.5555555555555556,
              "#d8576b"
             ],
             [
              0.6666666666666666,
              "#ed7953"
             ],
             [
              0.7777777777777778,
              "#fb9f3a"
             ],
             [
              0.8888888888888888,
              "#fdca26"
             ],
             [
              1,
              "#f0f921"
             ]
            ],
            "type": "surface"
           }
          ],
          "table": [
           {
            "cells": {
             "fill": {
              "color": "#EBF0F8"
             },
             "line": {
              "color": "white"
             }
            },
            "header": {
             "fill": {
              "color": "#C8D4E3"
             },
             "line": {
              "color": "white"
             }
            },
            "type": "table"
           }
          ]
         },
         "layout": {
          "annotationdefaults": {
           "arrowcolor": "#2a3f5f",
           "arrowhead": 0,
           "arrowwidth": 1
          },
          "coloraxis": {
           "colorbar": {
            "outlinewidth": 0,
            "ticks": ""
           }
          },
          "colorscale": {
           "diverging": [
            [
             0,
             "#8e0152"
            ],
            [
             0.1,
             "#c51b7d"
            ],
            [
             0.2,
             "#de77ae"
            ],
            [
             0.3,
             "#f1b6da"
            ],
            [
             0.4,
             "#fde0ef"
            ],
            [
             0.5,
             "#f7f7f7"
            ],
            [
             0.6,
             "#e6f5d0"
            ],
            [
             0.7,
             "#b8e186"
            ],
            [
             0.8,
             "#7fbc41"
            ],
            [
             0.9,
             "#4d9221"
            ],
            [
             1,
             "#276419"
            ]
           ],
           "sequential": [
            [
             0,
             "#0d0887"
            ],
            [
             0.1111111111111111,
             "#46039f"
            ],
            [
             0.2222222222222222,
             "#7201a8"
            ],
            [
             0.3333333333333333,
             "#9c179e"
            ],
            [
             0.4444444444444444,
             "#bd3786"
            ],
            [
             0.5555555555555556,
             "#d8576b"
            ],
            [
             0.6666666666666666,
             "#ed7953"
            ],
            [
             0.7777777777777778,
             "#fb9f3a"
            ],
            [
             0.8888888888888888,
             "#fdca26"
            ],
            [
             1,
             "#f0f921"
            ]
           ],
           "sequentialminus": [
            [
             0,
             "#0d0887"
            ],
            [
             0.1111111111111111,
             "#46039f"
            ],
            [
             0.2222222222222222,
             "#7201a8"
            ],
            [
             0.3333333333333333,
             "#9c179e"
            ],
            [
             0.4444444444444444,
             "#bd3786"
            ],
            [
             0.5555555555555556,
             "#d8576b"
            ],
            [
             0.6666666666666666,
             "#ed7953"
            ],
            [
             0.7777777777777778,
             "#fb9f3a"
            ],
            [
             0.8888888888888888,
             "#fdca26"
            ],
            [
             1,
             "#f0f921"
            ]
           ]
          },
          "colorway": [
           "#636efa",
           "#EF553B",
           "#00cc96",
           "#ab63fa",
           "#FFA15A",
           "#19d3f3",
           "#FF6692",
           "#B6E880",
           "#FF97FF",
           "#FECB52"
          ],
          "font": {
           "color": "#2a3f5f"
          },
          "geo": {
           "bgcolor": "white",
           "lakecolor": "white",
           "landcolor": "#E5ECF6",
           "showlakes": true,
           "showland": true,
           "subunitcolor": "white"
          },
          "hoverlabel": {
           "align": "left"
          },
          "hovermode": "closest",
          "mapbox": {
           "style": "light"
          },
          "paper_bgcolor": "white",
          "plot_bgcolor": "#E5ECF6",
          "polar": {
           "angularaxis": {
            "gridcolor": "white",
            "linecolor": "white",
            "ticks": ""
           },
           "bgcolor": "#E5ECF6",
           "radialaxis": {
            "gridcolor": "white",
            "linecolor": "white",
            "ticks": ""
           }
          },
          "scene": {
           "xaxis": {
            "backgroundcolor": "#E5ECF6",
            "gridcolor": "white",
            "gridwidth": 2,
            "linecolor": "white",
            "showbackground": true,
            "ticks": "",
            "zerolinecolor": "white"
           },
           "yaxis": {
            "backgroundcolor": "#E5ECF6",
            "gridcolor": "white",
            "gridwidth": 2,
            "linecolor": "white",
            "showbackground": true,
            "ticks": "",
            "zerolinecolor": "white"
           },
           "zaxis": {
            "backgroundcolor": "#E5ECF6",
            "gridcolor": "white",
            "gridwidth": 2,
            "linecolor": "white",
            "showbackground": true,
            "ticks": "",
            "zerolinecolor": "white"
           }
          },
          "shapedefaults": {
           "line": {
            "color": "#2a3f5f"
           }
          },
          "ternary": {
           "aaxis": {
            "gridcolor": "white",
            "linecolor": "white",
            "ticks": ""
           },
           "baxis": {
            "gridcolor": "white",
            "linecolor": "white",
            "ticks": ""
           },
           "bgcolor": "#E5ECF6",
           "caxis": {
            "gridcolor": "white",
            "linecolor": "white",
            "ticks": ""
           }
          },
          "title": {
           "x": 0.05
          },
          "xaxis": {
           "automargin": true,
           "gridcolor": "white",
           "linecolor": "white",
           "ticks": "",
           "title": {
            "standoff": 15
           },
           "zerolinecolor": "white",
           "zerolinewidth": 2
          },
          "yaxis": {
           "automargin": true,
           "gridcolor": "white",
           "linecolor": "white",
           "ticks": "",
           "title": {
            "standoff": 15
           },
           "zerolinecolor": "white",
           "zerolinewidth": 2
          }
         }
        },
        "title": {
         "text": "ANÁLISE FIIs PAPEL | DY Ano >= 4%, Patr. > 500M, Neg/dia > 1000, P/VPA =< 1.25, Ativos >= 10, Vacância Física < 15%"
        }
       }
      }
     },
     "metadata": {}
    },
    {
     "output_type": "execute_result",
     "data": {
      "text/plain": "'temp-plot.html'"
     },
     "metadata": {},
     "execution_count": 101
    }
   ],
   "source": [
    "x = [rsf_paper['setor'],rsf_paper['codigo']]\n",
    "trace0 = go.Bar(x=x, y=rsf_paper['dy12macum%'], name='DY% 12m Acum')\n",
    "trace1 = go.Bar(x=x, y=rsf_paper['p/vpaN'], name='P/VPA')\n",
    "trace2 = go.Bar(x=x, y=rsf_paper['varpatr%'], name='%Variação Patr.', marker_color='rgb(57, 147, 123)')\n",
    "data = [trace0, trace1, trace2]\n",
    "fig = go.Figure(data)\n",
    "fig.update_layout(title='ANÁLISE FIIs PAPEL | DY Ano >= 4%, Patr. > 500M, Neg/dia > 1000, P/VPA =< 1.25, Ativos >= 10, Vacância Física < 15%')\n",
    "fig.show()\n",
    "py.plot(fig)"
   ]
  },
  {
   "cell_type": "code",
   "execution_count": null,
   "metadata": {},
   "outputs": [],
   "source": []
  }
 ]
}