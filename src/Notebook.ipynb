{
 "metadata": {
  "language_info": {
   "codemirror_mode": {
    "name": "ipython",
    "version": 3
   },
   "file_extension": ".py",
   "mimetype": "text/x-python",
   "name": "python",
   "nbconvert_exporter": "python",
   "pygments_lexer": "ipython3",
   "version": "3.8.3-final"
  },
  "orig_nbformat": 2,
  "kernelspec": {
   "name": "Python 3.8.3 64-bit ('venvw')",
   "display_name": "Python 3.8.3 64-bit ('venvw')",
   "metadata": {
    "interpreter": {
     "hash": "5f205ff6da40c016131420b320ffebb1d37f22151d9c7e74a2037bed91cb9a79"
    }
   }
  }
 },
 "nbformat": 4,
 "nbformat_minor": 2,
 "cells": [
  {
   "cell_type": "code",
   "execution_count": 5,
   "metadata": {
    "tags": []
   },
   "outputs": [],
   "source": [
    "# MAIN\n",
    "# packages urllib, beatiful soup, html5, pandas\n",
    "#\n",
    "# from webtableparserpreviousversion import WebTableParser\n",
    "from webtableparser import WebTableParser\n",
    "#"
   ]
  },
  {
   "cell_type": "code",
   "execution_count": 6,
   "metadata": {
    "tags": []
   },
   "outputs": [
    {
     "output_type": "execute_result",
     "data": {
      "text/plain": [
       "\"site1 = WebTableParser()\\nsite1.create('https://calculador.com.br/tabela/indice/IGP-M',\\n             'table table-bordered table-striped table-hover table-fixed mb-0')\\ntable1 = site1.capture()\\ndf1 = site1.parse(table1)\\nprint(df1)\""
      ]
     },
     "metadata": {},
     "execution_count": 6
    }
   ],
   "source": [
    "# Sites 1 e 2 for testing (remove comments)\n",
    "'''site1 = WebTableParser()\n",
    "site1.create('https://calculador.com.br/tabela/indice/IGP-M',\n",
    "             'table table-bordered table-striped table-hover table-fixed mb-0')\n",
    "table1 = site1.capture()\n",
    "df1 = site1.parse(table1)\n",
    "print(df1)'''"
   ]
  },
  {
   "cell_type": "code",
   "execution_count": 7,
   "metadata": {
    "tags": []
   },
   "outputs": [
    {
     "output_type": "execute_result",
     "data": {
      "text/plain": [
       "\"site2 = WebTableParser('https://pt.wikipedia.org/wiki/Lista_de_capitais_do_Brasil_por_%C3%A1rea',\\n                       'wikitable sortable')\\ntable2 = site2.capture()\\ndf2 = site2.parse(table2)\\nprint(df2)\""
      ]
     },
     "metadata": {},
     "execution_count": 7
    }
   ],
   "source": [
    "# Site by webtableparserpreviousversion module\n",
    "'''site2 = WebTableParser('https://pt.wikipedia.org/wiki/Lista_de_capitais_do_Brasil_por_%C3%A1rea',\n",
    "                       'wikitable sortable')\n",
    "table2 = site2.capture()\n",
    "df2 = site2.parse(table2)\n",
    "print(df2)'''"
   ]
  },
  {
   "cell_type": "code",
   "execution_count": 8,
   "metadata": {
    "tags": []
   },
   "outputs": [
    {
     "output_type": "stream",
     "name": "stdout",
     "text": [
      "    CÃ³digodo fundo                 Setor PreÃ§o Atual Liquidez DiÃ¡ria  \\\n0            FIVN11             Shoppings      R$ 4,60           7248.0   \n1            BZLI11  TÃ­tulos e Val. Mob.     R$ 14,96           4153.0   \n2            XTED11    Lajes Corporativas      R$ 7,59           1817.0   \n3            ALMI11    Lajes Corporativas  R$ 1.232,00             24.0   \n4            DOMC11    Lajes Corporativas    R$ 439,00             42.0   \n..              ...                   ...          ...              ...   \n185         WTSP11B              HÃ­brido     R$ 51,21              5.0   \n186          OULG11                Outros     R$ 91,20           5706.0   \n187          OUCY11  TÃ­tulos e Val. Mob.     R$ 81,92           4327.0   \n188          OUFF11  TÃ­tulos e Val. Mob.     R$ 85,00           1670.0   \n189          ARCT11                Outros  R$ 1.146,02             81.0   \n\n    Dividendo DividendYield DY (3M)Acumulado DY (6M)Acumulado  \\\n0     R$ 0,00         0,00%            0,00%            0,00%   \n1     R$ 0,00         0,00%            0,00%            0,00%   \n2     R$ 0,00         0,00%            0,00%            0,00%   \n3     R$ 0,00         0,00%            0,00%            0,00%   \n4     R$ 0,00         0,00%            0,00%            0,00%   \n..        ...           ...              ...              ...   \n185   R$ 0,13         0,25%            0,79%            1,95%   \n186   R$ 0,61         0,67%            1,96%            3,95%   \n187   R$ 0,55         0,67%            1,98%            3,91%   \n188   R$ 0,45         0,53%            1,46%            3,90%   \n189  R$ 10,86         0,94%            3,91%            0,00%   \n\n    DY (12M)Acumulado DY (3M)MÃ©dia  ...   PatrimÃ´nioLÃ­q.          VPA  \\\n0               0,00%         0,00%  ...   R$ 71.569.862,13      R$ 7,60   \n1               0,00%         0,00%  ...  R$ 428.217.278,87     R$ 11,86   \n2               0,00%         0,00%  ...   R$ 26.024.375,31     R$ 14,52   \n3               0,00%         0,00%  ...  R$ 221.750.586,12  R$ 1.994,57   \n4               0,00%         0,00%  ...  R$ 244.148.383,80    R$ 999,05   \n..                ...           ...  ...                ...          ...   \n185             4,86%         0,26%  ...   R$ 90.448.804,11     R$ 91,13   \n186             7,74%         0,65%  ...  R$ 239.250.951,08     R$ 96,42   \n187             7,57%         0,66%  ...   R$ 81.732.055,43     R$ 98,25   \n188             7,81%         0,49%  ...  R$ 162.516.991,56     R$ 89,57   \n189             0,00%         1,30%  ...   R$ 22.991.878,95    R$ 985,55   \n\n    P/VPA DYPatrimonial VariaÃ§Ã£oPatrimonial Rentab. Patr.no PerÃ­odo  \\\n0    0,60           N/A                   N/A                      N/A   \n1    1,26           N/A                   N/A                      N/A   \n2    0,52           N/A                   N/A                      N/A   \n3    0,62           N/A                   N/A                      N/A   \n4    0,44           N/A                   N/A                      N/A   \n..    ...           ...                   ...                      ...   \n185  0,56           N/A                   N/A                      N/A   \n186  0,95           N/A                   N/A                      N/A   \n187  0,83           N/A                   N/A                      N/A   \n188  0,95           N/A                   N/A                      N/A   \n189  1,16           N/A                   N/A                      N/A   \n\n    Rentab. Patr.Acumulada VacÃ¢nciaFÃ­sica VacÃ¢nciaFinanceira  \\\n0                      N/A           56,00%                 N/A   \n1                      N/A              N/A                 N/A   \n2                      N/A          100,00%             100,00%   \n3                      N/A           71,19%                 N/A   \n4                      N/A           23,44%                 N/A   \n..                     ...              ...                 ...   \n185                    N/A              N/A                 N/A   \n186                    N/A            0,00%                 N/A   \n187                    N/A              N/A                 N/A   \n188                    N/A              N/A                 N/A   \n189                    N/A              N/A                 N/A   \n\n    QuantidadeAtivos  \n0                  1  \n1                  0  \n2                  1  \n3                  1  \n4                  1  \n..               ...  \n185                0  \n186                2  \n187                0  \n188                0  \n189                2  \n\n[190 rows x 26 columns]\n"
     ]
    }
   ],
   "source": [
    "# site capture and parsing\n",
    "site = WebTableParser()\n",
    "site.create('https://www.fundsexplorer.com.br/ranking',\n",
    "            'table table-hover')\n",
    "table = site.capture()\n",
    "df = site.parse(table)\n",
    "print(df)\n",
    "#\n",
    "# Now you have to process the dataframe, \"clean and organize\" it!"
   ]
  }
 ]
}